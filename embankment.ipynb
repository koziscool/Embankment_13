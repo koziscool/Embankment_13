{
 "cells": [
  {
   "cell_type": "code",
   "execution_count": 21,
   "id": "75be161a",
   "metadata": {},
   "outputs": [],
   "source": [
    "import math\n",
    "from functools import reduce\n",
    "import operator"
   ]
  },
  {
   "cell_type": "code",
   "execution_count": 28,
   "id": "5e82e7c0",
   "metadata": {},
   "outputs": [],
   "source": [
    "factorial = lambda n: reduce( operator.mul, range(1, n+1), 1 )\n",
    "combinations = lambda n, r: factorial(n) // factorial(r) // factorial(n-r)\n",
    "add_digits = lambda c1, c2: int(c1) + int(c2)\n",
    "sum_digits = lambda n: reduce( add_digits, str(n), 0 )"
   ]
  },
  {
   "cell_type": "code",
   "execution_count": 14,
   "id": "9c5c840b",
   "metadata": {},
   "outputs": [
    {
     "data": {
      "text/plain": [
       "664579"
      ]
     },
     "execution_count": 14,
     "metadata": {},
     "output_type": "execute_result"
    }
   ],
   "source": [
    "def get_primes(n):\n",
    "    \"\"\" Returns  a list of primes < n \"\"\"\n",
    "    sieve = [True] * n\n",
    "    for i in range(3,int(n**0.5)+1,2):\n",
    "        if sieve[i]:\n",
    "            sieve[i*i::2*i]=[False]*((n-i*i-1)//(2*i)+1)\n",
    "    return [2] + [i for i in range(3,n,2) if sieve[i]]\n",
    "\n",
    "primes = get_primes(10 ** 7)\n",
    "len(primes)"
   ]
  },
  {
   "cell_type": "code",
   "execution_count": 19,
   "id": "53f0c98e",
   "metadata": {},
   "outputs": [
    {
     "data": {
      "text/plain": [
       "233168"
      ]
     },
     "execution_count": 19,
     "metadata": {},
     "output_type": "execute_result"
    }
   ],
   "source": [
    "def e1(limit):\n",
    "    div_by_3_or_5 = lambda n: n % 3 == 0 or n % 5 == 0\n",
    "    return sum( filter( div_by_3_or_5, range(limit) ))\n",
    "\n",
    "e1(1000)"
   ]
  },
  {
   "cell_type": "code",
   "execution_count": 10,
   "id": "42cc1e98",
   "metadata": {},
   "outputs": [
    {
     "data": {
      "text/plain": [
       "4613732"
      ]
     },
     "execution_count": 10,
     "metadata": {},
     "output_type": "execute_result"
    }
   ],
   "source": [
    "def e2(limit):\n",
    "    fibo, fibo_total = [ 1, 2 ], 2\n",
    "    while fibo[-1] < limit:\n",
    "        new_elt = fibo[-1] + fibo[-2]\n",
    "        if new_elt % 2 == 0:\n",
    "            fibo_total += new_elt\n",
    "        fibo.append( new_elt )\n",
    "        \n",
    "    return fibo_total\n",
    "        \n",
    "e2( 4 * 10 ** 6 )"
   ]
  },
  {
   "cell_type": "code",
   "execution_count": 16,
   "id": "eee22e92",
   "metadata": {},
   "outputs": [
    {
     "data": {
      "text/plain": [
       "25164150"
      ]
     },
     "execution_count": 16,
     "metadata": {},
     "output_type": "execute_result"
    }
   ],
   "source": [
    "def e6(limit):\n",
    "    sum_squares = sum( map(lambda n: n*n, range(limit+1)) )\n",
    "    square_sum = sum(range(limit+1)) ** 2\n",
    "    return square_sum - sum_squares\n",
    "\n",
    "e6(100)"
   ]
  },
  {
   "cell_type": "code",
   "execution_count": 15,
   "id": "434050ce",
   "metadata": {},
   "outputs": [
    {
     "data": {
      "text/plain": [
       "104743"
      ]
     },
     "execution_count": 15,
     "metadata": {},
     "output_type": "execute_result"
    }
   ],
   "source": [
    "def e7(limit):\n",
    "    return primes[limit-1]\n",
    "\n",
    "e7(10001)"
   ]
  },
  {
   "cell_type": "code",
   "execution_count": 17,
   "id": "6cc13a34",
   "metadata": {},
   "outputs": [
    {
     "data": {
      "text/plain": [
       "142913828922"
      ]
     },
     "execution_count": 17,
     "metadata": {},
     "output_type": "execute_result"
    }
   ],
   "source": [
    "def e10(limit):\n",
    "    return sum( filter( lambda n: n<limit, primes ))  \n",
    "\n",
    "e10( 2 * 10 ** 6 )"
   ]
  },
  {
   "cell_type": "code",
   "execution_count": 29,
   "id": "c6a38639",
   "metadata": {},
   "outputs": [
    {
     "data": {
      "text/plain": [
       "1366"
      ]
     },
     "execution_count": 29,
     "metadata": {},
     "output_type": "execute_result"
    }
   ],
   "source": [
    "def e16(limit):\n",
    "    return sum_digits( str(2 ** limit) )\n",
    "\n",
    "e16(1000)"
   ]
  },
  {
   "cell_type": "code",
   "execution_count": 30,
   "id": "91baef63",
   "metadata": {},
   "outputs": [
    {
     "data": {
      "text/plain": [
       "648"
      ]
     },
     "execution_count": 30,
     "metadata": {},
     "output_type": "execute_result"
    }
   ],
   "source": [
    "def e20(limit):\n",
    "    return sum_digits( factorial(limit) )\n",
    "\n",
    "e20(100)"
   ]
  },
  {
   "cell_type": "code",
   "execution_count": null,
   "id": "5535bcfe",
   "metadata": {},
   "outputs": [],
   "source": []
  }
 ],
 "metadata": {
  "kernelspec": {
   "display_name": "Python 3 (ipykernel)",
   "language": "python",
   "name": "python3"
  },
  "language_info": {
   "codemirror_mode": {
    "name": "ipython",
    "version": 3
   },
   "file_extension": ".py",
   "mimetype": "text/x-python",
   "name": "python",
   "nbconvert_exporter": "python",
   "pygments_lexer": "ipython3",
   "version": "3.10.6"
  }
 },
 "nbformat": 4,
 "nbformat_minor": 5
}
