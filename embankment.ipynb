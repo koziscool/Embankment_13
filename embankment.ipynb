{
 "cells": [
  {
   "cell_type": "code",
   "execution_count": 1,
   "id": "105d617e",
   "metadata": {},
   "outputs": [],
   "source": [
    "import math\n",
    "import functools"
   ]
  },
  {
   "cell_type": "code",
   "execution_count": 14,
   "id": "9e9cf53c",
   "metadata": {},
   "outputs": [
    {
     "data": {
      "text/plain": [
       "664579"
      ]
     },
     "execution_count": 14,
     "metadata": {},
     "output_type": "execute_result"
    }
   ],
   "source": [
    "def get_primes(n):\n",
    "    \"\"\" Returns  a list of primes < n \"\"\"\n",
    "    sieve = [True] * n\n",
    "    for i in range(3,int(n**0.5)+1,2):\n",
    "        if sieve[i]:\n",
    "            sieve[i*i::2*i]=[False]*((n-i*i-1)//(2*i)+1)\n",
    "    return [2] + [i for i in range(3,n,2) if sieve[i]]\n",
    "\n",
    "primes = get_primes(10 ** 7)\n",
    "len(primes)"
   ]
  },
  {
   "cell_type": "code",
   "execution_count": 2,
   "id": "38038273",
   "metadata": {},
   "outputs": [],
   "source": [
    "div_by_3_or_5 = lambda n: n % 3 == 0 or n % 5 == 0"
   ]
  },
  {
   "cell_type": "code",
   "execution_count": 6,
   "id": "6cade888",
   "metadata": {},
   "outputs": [
    {
     "data": {
      "text/plain": [
       "233168"
      ]
     },
     "execution_count": 6,
     "metadata": {},
     "output_type": "execute_result"
    }
   ],
   "source": [
    "def e1(limit):\n",
    "    return sum( filter( div_by_3_or_5, range(limit) ))\n",
    "\n",
    "e1(1000)"
   ]
  },
  {
   "cell_type": "code",
   "execution_count": 10,
   "id": "6b899b66",
   "metadata": {},
   "outputs": [
    {
     "data": {
      "text/plain": [
       "4613732"
      ]
     },
     "execution_count": 10,
     "metadata": {},
     "output_type": "execute_result"
    }
   ],
   "source": [
    "def e2(limit):\n",
    "    fibo, fibo_total = [ 1, 2 ], 2\n",
    "    while fibo[-1] < limit:\n",
    "        new_elt = fibo[-1] + fibo[-2]\n",
    "        if new_elt % 2 == 0:\n",
    "            fibo_total += new_elt\n",
    "        fibo.append( new_elt )\n",
    "        \n",
    "    return fibo_total\n",
    "        \n",
    "e2( 4 * 10 ** 6 )"
   ]
  },
  {
   "cell_type": "code",
   "execution_count": null,
   "id": "2ffcdcd4",
   "metadata": {},
   "outputs": [],
   "source": [
    "def e6(limit):\n",
    "    sum_squares = sum( map(lambda n: n*n, range(limit+1)) )\n",
    "    square_sum = sum(range(limit-1))"
   ]
  },
  {
   "cell_type": "code",
   "execution_count": 15,
   "id": "bdd89097",
   "metadata": {},
   "outputs": [
    {
     "data": {
      "text/plain": [
       "104743"
      ]
     },
     "execution_count": 15,
     "metadata": {},
     "output_type": "execute_result"
    }
   ],
   "source": [
    "def e7(limit):\n",
    "    return primes[limit-1]\n",
    "\n",
    "e7(10001)"
   ]
  },
  {
   "cell_type": "code",
   "execution_count": 12,
   "id": "e87bd1e2",
   "metadata": {},
   "outputs": [
    {
     "data": {
      "text/plain": [
       "1"
      ]
     },
     "execution_count": 12,
     "metadata": {},
     "output_type": "execute_result"
    }
   ],
   "source": []
  },
  {
   "cell_type": "code",
   "execution_count": null,
   "id": "55c33008",
   "metadata": {},
   "outputs": [],
   "source": []
  }
 ],
 "metadata": {
  "kernelspec": {
   "display_name": "Python 3 (ipykernel)",
   "language": "python",
   "name": "python3"
  },
  "language_info": {
   "codemirror_mode": {
    "name": "ipython",
    "version": 3
   },
   "file_extension": ".py",
   "mimetype": "text/x-python",
   "name": "python",
   "nbconvert_exporter": "python",
   "pygments_lexer": "ipython3",
   "version": "3.10.6"
  }
 },
 "nbformat": 4,
 "nbformat_minor": 5
}
