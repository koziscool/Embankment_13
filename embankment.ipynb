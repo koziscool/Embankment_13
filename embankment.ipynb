{
 "cells": [
  {
   "cell_type": "code",
   "execution_count": 1,
   "id": "bc497a96",
   "metadata": {},
   "outputs": [],
   "source": [
    "import functools\n"
   ]
  },
  {
   "cell_type": "code",
   "execution_count": 2,
   "id": "729d9c7b",
   "metadata": {},
   "outputs": [],
   "source": [
    "div_by_3_or_5 = lambda n: n % 3 == 0 or n % 5 == 0"
   ]
  },
  {
   "cell_type": "code",
   "execution_count": 6,
   "id": "0973fe4b",
   "metadata": {},
   "outputs": [
    {
     "data": {
      "text/plain": [
       "233168"
      ]
     },
     "execution_count": 6,
     "metadata": {},
     "output_type": "execute_result"
    }
   ],
   "source": [
    "def e1(limit):\n",
    "    return sum( filter( div_by_3_or_5, range(limit) ))\n",
    "\n",
    "e1(1000)"
   ]
  },
  {
   "cell_type": "code",
   "execution_count": null,
   "id": "0b216fc4",
   "metadata": {},
   "outputs": [],
   "source": []
  }
 ],
 "metadata": {
  "kernelspec": {
   "display_name": "Python 3 (ipykernel)",
   "language": "python",
   "name": "python3"
  },
  "language_info": {
   "codemirror_mode": {
    "name": "ipython",
    "version": 3
   },
   "file_extension": ".py",
   "mimetype": "text/x-python",
   "name": "python",
   "nbconvert_exporter": "python",
   "pygments_lexer": "ipython3",
   "version": "3.10.6"
  }
 },
 "nbformat": 4,
 "nbformat_minor": 5
}
