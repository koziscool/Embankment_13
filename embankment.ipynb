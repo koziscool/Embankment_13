{
 "cells": [
  {
   "cell_type": "code",
   "execution_count": 1,
   "id": "706efac7",
   "metadata": {},
   "outputs": [],
   "source": [
    "import time\n",
    "start = time.time()"
   ]
  },
  {
   "cell_type": "code",
   "execution_count": 2,
   "id": "75be161a",
   "metadata": {},
   "outputs": [],
   "source": [
    "import math\n",
    "from functools import reduce\n",
    "from collections import defaultdict, Counter\n",
    "from itertools import product, permutations\n",
    "import operator"
   ]
  },
  {
   "cell_type": "code",
   "execution_count": 3,
   "id": "79411bfb",
   "metadata": {},
   "outputs": [],
   "source": [
    "factorial = lambda n: reduce( operator.mul, range(1, n+1), 1 )\n",
    "combinations = lambda n, r: factorial(n) // factorial(r) // factorial(n-r)\n",
    "add_digits = lambda c1, c2: int(c1) + int(c2)\n",
    "sum_digits = lambda n: reduce( add_digits, str(n), 0 )"
   ]
  },
  {
   "cell_type": "code",
   "execution_count": 4,
   "id": "9c5c840b",
   "metadata": {},
   "outputs": [],
   "source": [
    "def get_primes(n):\n",
    "    \"\"\" Returns  a list of primes < n \"\"\"\n",
    "    sieve = [True] * n\n",
    "    for i in range(3,int(n**0.5)+1,2):\n",
    "        if sieve[i]:\n",
    "            sieve[i*i::2*i]=[False]*((n-i*i-1)//(2*i)+1)\n",
    "    return [2] + [i for i in range(3,n,2) if sieve[i]]\n",
    "\n",
    "primes = get_primes(10 ** 7)\n",
    "prime_set = set(primes)\n",
    "many_primes = get_primes(10 ** 8)"
   ]
  },
  {
   "cell_type": "code",
   "execution_count": 5,
   "id": "0959ed83",
   "metadata": {},
   "outputs": [],
   "source": [
    "def prime_factors(n):\n",
    "    remainder, factors_dic = n, defaultdict(int)\n",
    "    \n",
    "    for p in primes:\n",
    "        if remainder == 1 or p ** 2 > remainder:\n",
    "            break       \n",
    "        while remainder % p == 0:\n",
    "            remainder //= p\n",
    "            factors_dic[p] += 1\n",
    "        \n",
    "    if remainder > 1:\n",
    "        factors_dic[remainder] = 1\n",
    "    \n",
    "    return factors_dic"
   ]
  },
  {
   "cell_type": "code",
   "execution_count": 6,
   "id": "d5356841",
   "metadata": {},
   "outputs": [],
   "source": [
    "def num_factors( n ):\n",
    "    d = prime_factors(n)\n",
    "    return reduce( lambda product, value: product * (value + 1), d.values(), 1 )"
   ]
  },
  {
   "cell_type": "code",
   "execution_count": 7,
   "id": "ac432149",
   "metadata": {},
   "outputs": [],
   "source": [
    "def all_divisors(n):\n",
    "    factors, prime_powers_factor_list, d = [], [], prime_factors(n)\n",
    "    for k,v in d.items():\n",
    "        prime_powers_factor_list.append( [ k ** i for i in range(v+1) ] )\n",
    "    \n",
    "    for elt in product(*prime_powers_factor_list):\n",
    "        factors.append( reduce( operator.mul, elt, 1))\n",
    "        \n",
    "    return factors"
   ]
  },
  {
   "cell_type": "code",
   "execution_count": 8,
   "id": "3e33c170",
   "metadata": {},
   "outputs": [],
   "source": [
    "bool_digit_permutation = lambda m, n: Counter(str(m)) == Counter(str(n))\n",
    "\n",
    "def is_pandigital(n):\n",
    "    l = len(str(n))\n",
    "    pandigits = ''.join(str(i) for i in range(1,l+1))\n",
    "    return bool_digit_permutation(n, int(pandigits))"
   ]
  },
  {
   "cell_type": "code",
   "execution_count": 9,
   "id": "3d423912",
   "metadata": {},
   "outputs": [],
   "source": [
    "def phi(n):\n",
    "    prime_iter, ret_totient, remainder = iter(primes), n, n\n",
    "    while True:\n",
    "        p = next(prime_iter)\n",
    "        if n % p == 0:\n",
    "            ret_totient *= p-1\n",
    "            ret_totient //= p\n",
    "        while remainder % p == 0:\n",
    "            remainder //= p\n",
    "        if p > remainder:\n",
    "            break            \n",
    "    return ret_totient\n",
    "\n",
    "def d_over_phi_d(n):\n",
    "    prime_iter, ret_totient, remainder = iter(primes), 1, n\n",
    "    while True:\n",
    "        p = next(prime_iter)\n",
    "        if n % p == 0:\n",
    "            ret_totient *= p / (p-1)   \n",
    "        while remainder % p == 0:\n",
    "            remainder //= p\n",
    "        if p > remainder:\n",
    "            break            \n",
    "    return ret_totient\n",
    "\n",
    "def phi_over_d(n):\n",
    "    prime_iter, ret_totient, remainder = iter(primes), 1, n\n",
    "    while True:\n",
    "        p = next(prime_iter)\n",
    "        if n % p == 0:\n",
    "            ret_totient *= (p-1) / p\n",
    "        while remainder % p == 0:\n",
    "            remainder //= p\n",
    "        if p > remainder:\n",
    "            break            \n",
    "    return ret_totient\n"
   ]
  },
  {
   "cell_type": "code",
   "execution_count": 10,
   "id": "8d73e040",
   "metadata": {},
   "outputs": [],
   "source": [
    "ord_offset = ord('A') - 1\n",
    "word_score = lambda s: sum(map(lambda c: ord(c) - ord_offset, s))"
   ]
  },
  {
   "cell_type": "code",
   "execution_count": 11,
   "id": "d61eee7e",
   "metadata": {},
   "outputs": [],
   "source": [
    "reverse = lambda n: int(str(n)[::-1])\n",
    "is_palindrome = lambda n: n == reverse(n)"
   ]
  },
  {
   "cell_type": "code",
   "execution_count": 12,
   "id": "cdf6ec90",
   "metadata": {},
   "outputs": [],
   "source": [
    "def gcd( a, b ):  # assume a >= b and a and b > 0\n",
    "    while a % b > 0:\n",
    "        a, b = b, a % b\n",
    "    return b"
   ]
  },
  {
   "cell_type": "code",
   "execution_count": 13,
   "id": "53f0c98e",
   "metadata": {},
   "outputs": [
    {
     "data": {
      "text/plain": [
       "233168"
      ]
     },
     "execution_count": 13,
     "metadata": {},
     "output_type": "execute_result"
    }
   ],
   "source": [
    "def e1(limit):\n",
    "    div_by_3_or_5 = lambda n: n % 3 == 0 or n % 5 == 0\n",
    "    return sum( filter( div_by_3_or_5, range(limit) ))\n",
    "\n",
    "e1(1000)"
   ]
  },
  {
   "cell_type": "code",
   "execution_count": 14,
   "id": "42cc1e98",
   "metadata": {},
   "outputs": [
    {
     "data": {
      "text/plain": [
       "4613732"
      ]
     },
     "execution_count": 14,
     "metadata": {},
     "output_type": "execute_result"
    }
   ],
   "source": [
    "def e2(limit):\n",
    "    fibo, fibo_total = [ 1, 2 ], 2\n",
    "    while fibo[-1] < limit:\n",
    "        new_elt = fibo[-1] + fibo[-2]\n",
    "        if new_elt % 2 == 0:\n",
    "            fibo_total += new_elt\n",
    "        fibo.append( new_elt )\n",
    "        \n",
    "    return fibo_total\n",
    "        \n",
    "e2( 4 * 10 ** 6 )"
   ]
  },
  {
   "cell_type": "code",
   "execution_count": 15,
   "id": "2fa875d7",
   "metadata": {},
   "outputs": [
    {
     "data": {
      "text/plain": [
       "6857"
      ]
     },
     "execution_count": 15,
     "metadata": {},
     "output_type": "execute_result"
    }
   ],
   "source": [
    "def e3(n):\n",
    "    max_prime, remainder = 0, n\n",
    "    \n",
    "    for p in primes:\n",
    "        if remainder == 1 or p ** 2 >= remainder:\n",
    "            break  \n",
    "        if remainder % p == 0:\n",
    "            max_prime = p       \n",
    "        while remainder % p == 0:\n",
    "            remainder //= p\n",
    "        \n",
    "    return max_prime if remainder == 1 else remainder\n",
    "        \n",
    "e3(600851475143)"
   ]
  },
  {
   "cell_type": "code",
   "execution_count": 16,
   "id": "944adbaa",
   "metadata": {},
   "outputs": [
    {
     "data": {
      "text/plain": [
       "906609"
      ]
     },
     "execution_count": 16,
     "metadata": {},
     "output_type": "execute_result"
    }
   ],
   "source": [
    "def e4():\n",
    "    is_pal = lambda n: n == int(str(n)[::-1])\n",
    "    max_pal = 0\n",
    "    \n",
    "    for a in range(100,1000):\n",
    "        for b in range( a, 1000 ):\n",
    "            if is_pal(a*b) and a*b > max_pal:\n",
    "                max_pal = a*b\n",
    "    \n",
    "    return max_pal\n",
    "    \n",
    "e4()"
   ]
  },
  {
   "cell_type": "code",
   "execution_count": 17,
   "id": "c2754e99",
   "metadata": {},
   "outputs": [
    {
     "data": {
      "text/plain": [
       "232792560"
      ]
     },
     "execution_count": 17,
     "metadata": {},
     "output_type": "execute_result"
    }
   ],
   "source": [
    "def e5(limit):\n",
    "    ret_val = 1\n",
    "    small_primes = filter( lambda n: n <= limit, primes )\n",
    "    for p in small_primes:\n",
    "        prime_power = p\n",
    "        while prime_power * p < limit:\n",
    "            prime_power *= p\n",
    "        ret_val *= prime_power        \n",
    "    return ret_val\n",
    "    \n",
    "e5(20)"
   ]
  },
  {
   "cell_type": "code",
   "execution_count": 18,
   "id": "eee22e92",
   "metadata": {},
   "outputs": [
    {
     "data": {
      "text/plain": [
       "25164150"
      ]
     },
     "execution_count": 18,
     "metadata": {},
     "output_type": "execute_result"
    }
   ],
   "source": [
    "def e6(limit):\n",
    "    sum_squares = sum( map(lambda n: n*n, range(limit+1)) )\n",
    "    square_sum = sum(range(limit+1)) ** 2\n",
    "    return square_sum - sum_squares\n",
    "\n",
    "e6(100)"
   ]
  },
  {
   "cell_type": "code",
   "execution_count": 19,
   "id": "434050ce",
   "metadata": {},
   "outputs": [
    {
     "data": {
      "text/plain": [
       "104743"
      ]
     },
     "execution_count": 19,
     "metadata": {},
     "output_type": "execute_result"
    }
   ],
   "source": [
    "def e7(limit):\n",
    "    return primes[limit-1]\n",
    "\n",
    "e7(10001)"
   ]
  },
  {
   "cell_type": "code",
   "execution_count": 20,
   "id": "5481184a",
   "metadata": {},
   "outputs": [
    {
     "data": {
      "text/plain": [
       "23514624000"
      ]
     },
     "execution_count": 20,
     "metadata": {},
     "output_type": "execute_result"
    }
   ],
   "source": [
    "def e8( adjacent_length ):\n",
    "    f = open('e8data.txt')\n",
    "    lines = f.readlines()\n",
    "    digits = ''.join( lines )\n",
    "    digits = ''.join( digits.split('\\n') )\n",
    "\n",
    "    max_product = 0\n",
    "    for i in range( len(digits) - adjacent_length ):\n",
    "        this_product = 1\n",
    "        for j in range(adjacent_length):\n",
    "            this_product *= int( digits[ i+j ] )\n",
    "        if this_product > max_product:\n",
    "            max_product = this_product\n",
    "            \n",
    "    return max_product\n",
    "            \n",
    "\n",
    "e8(13)"
   ]
  },
  {
   "cell_type": "code",
   "execution_count": 21,
   "id": "776c5ebf",
   "metadata": {},
   "outputs": [
    {
     "data": {
      "text/plain": [
       "31875000"
      ]
     },
     "execution_count": 21,
     "metadata": {},
     "output_type": "execute_result"
    }
   ],
   "source": [
    "def e9(limit):\n",
    "    a, b = 1, 2\n",
    "    c = (a*a +b*b) ** 0.5\n",
    "    while a + b + c <= limit:\n",
    "        while a + b + c <= limit:\n",
    "            if c == int(c) and a + b + c == limit:\n",
    "                return a*b*int(c)\n",
    "            b += 1\n",
    "            c = (a*a +b*b) ** 0.5\n",
    "        a += 1\n",
    "        b = a +1\n",
    "        c = (a*a +b*b) ** 0.5\n",
    "    \n",
    "    return \"no solution\"\n",
    "e9(1000)"
   ]
  },
  {
   "cell_type": "code",
   "execution_count": 22,
   "id": "6cc13a34",
   "metadata": {},
   "outputs": [
    {
     "data": {
      "text/plain": [
       "142913828922"
      ]
     },
     "execution_count": 22,
     "metadata": {},
     "output_type": "execute_result"
    }
   ],
   "source": [
    "def e10(limit):\n",
    "    return sum( filter( lambda n: n<limit, primes ))  \n",
    "\n",
    "e10( 2 * 10 ** 6 )"
   ]
  },
  {
   "cell_type": "code",
   "execution_count": 23,
   "id": "43b837e1",
   "metadata": {},
   "outputs": [
    {
     "data": {
      "text/plain": [
       "70600674"
      ]
     },
     "execution_count": 23,
     "metadata": {},
     "output_type": "execute_result"
    }
   ],
   "source": [
    "def e11():\n",
    "    f = open('e11data.txt')\n",
    "    lines = f.readlines()\n",
    "    numbers = [ [ int(s) for s in line.split(\" \") ] for line in lines  ]\n",
    "    \n",
    "    max_prod, adjacent_length = 0, 4\n",
    "    height, width = len(numbers), len(numbers[0])\n",
    "    \n",
    "    for i in range(height):\n",
    "        for j in range(width - adjacent_length):\n",
    "            right_prod = numbers[i][j] * numbers[i][j+1] * numbers[i][j+2] * numbers[i][j+3]\n",
    "            if right_prod > max_prod:\n",
    "                max_prod = right_prod\n",
    "\n",
    "    for i in range(height - adjacent_length):\n",
    "        for j in range(width):\n",
    "            down_prod = numbers[i][j] * numbers[i+1][j] * numbers[i+2][j] * numbers[i+3][j]\n",
    "            if down_prod > max_prod:\n",
    "                max_prod = down_prod\n",
    "                \n",
    "    for i in range(height - adjacent_length):\n",
    "        for j in range(width - adjacent_length):\n",
    "            diag_prod = numbers[i][j] * numbers[i+1][j+1] * numbers[i+2][j+2] * numbers[i+3][j+3]\n",
    "            if diag_prod > max_prod:\n",
    "                max_prod = diag_prod\n",
    "                \n",
    "    for i in range(height - adjacent_length):\n",
    "        for j in range(adjacent_length, width):\n",
    "            diag_prod = numbers[i][j] * numbers[i+1][j-1] * numbers[i+2][j-2] * numbers[i+3][j-3]\n",
    "            if diag_prod > max_prod:\n",
    "                max_prod = diag_prod\n",
    "            \n",
    "    return max_prod\n",
    "\n",
    "e11()"
   ]
  },
  {
   "cell_type": "code",
   "execution_count": 24,
   "id": "3e7dedc6",
   "metadata": {},
   "outputs": [
    {
     "data": {
      "text/plain": [
       "76576500"
      ]
     },
     "execution_count": 24,
     "metadata": {},
     "output_type": "execute_result"
    }
   ],
   "source": [
    "\n",
    "def e12(limit):\n",
    "    triangle = lambda n: n * (n+1) // 2\n",
    "    i = 1\n",
    "    while num_factors( triangle(i) ) <= limit:\n",
    "        i += 1\n",
    "    return triangle(i)\n",
    "    \n",
    "e12(500)\n"
   ]
  },
  {
   "cell_type": "code",
   "execution_count": 25,
   "id": "0f480fc8",
   "metadata": {},
   "outputs": [
    {
     "data": {
      "text/plain": [
       "5537376230"
      ]
     },
     "execution_count": 25,
     "metadata": {},
     "output_type": "execute_result"
    }
   ],
   "source": [
    "def e13():\n",
    "    f = open('e13data.txt')\n",
    "    lines = f.readlines()\n",
    "    data_sum = sum( int(s) for s in lines )\n",
    "    return int(str(data_sum)[:10])\n",
    "e13()"
   ]
  },
  {
   "cell_type": "code",
   "execution_count": 26,
   "id": "1a26e6b3",
   "metadata": {},
   "outputs": [
    {
     "data": {
      "text/plain": [
       "837799"
      ]
     },
     "execution_count": 26,
     "metadata": {},
     "output_type": "execute_result"
    }
   ],
   "source": [
    "def e14(limit):\n",
    "\n",
    "    collatz = lambda n: n // 2 if n % 2 == 0 else 3 * n + 1\n",
    "    collatz_len_dic = { 1:1 }\n",
    "    \n",
    "    for i in range(1, limit):\n",
    "        if i in collatz_len_dic:\n",
    "            continue\n",
    "            \n",
    "        collatz_chain = [i]\n",
    "        while collatz(i) not in collatz_len_dic:\n",
    "            i = collatz(i)\n",
    "            collatz_chain.append(i)\n",
    "            \n",
    "        collatz_len = collatz_len_dic[ collatz(i) ] + 1\n",
    "        \n",
    "        while len( collatz_chain ) > 0:\n",
    "            i =  collatz_chain.pop()\n",
    "            collatz_len_dic[i] = collatz_len\n",
    "            collatz_len += 1\n",
    "        \n",
    "    return max(collatz_len_dic, key=collatz_len_dic.get)\n",
    "        \n",
    "e14(10 ** 6)"
   ]
  },
  {
   "cell_type": "code",
   "execution_count": 27,
   "id": "48a95c82",
   "metadata": {},
   "outputs": [
    {
     "data": {
      "text/plain": [
       "137846528820"
      ]
     },
     "execution_count": 27,
     "metadata": {},
     "output_type": "execute_result"
    }
   ],
   "source": [
    "def e15(limit):\n",
    "    square_combo = map( lambda i: combinations(limit,i) ** 2, range(limit + 1) )\n",
    "    return sum( square_combo )\n",
    "    \n",
    "e15(20)"
   ]
  },
  {
   "cell_type": "code",
   "execution_count": 28,
   "id": "c6a38639",
   "metadata": {},
   "outputs": [
    {
     "data": {
      "text/plain": [
       "1366"
      ]
     },
     "execution_count": 28,
     "metadata": {},
     "output_type": "execute_result"
    }
   ],
   "source": [
    "def e16(limit):\n",
    "    return sum_digits( str(2 ** limit) )\n",
    "\n",
    "e16(1000)"
   ]
  },
  {
   "cell_type": "code",
   "execution_count": 29,
   "id": "fcdb1aac",
   "metadata": {},
   "outputs": [
    {
     "data": {
      "text/plain": [
       "21124"
      ]
     },
     "execution_count": 29,
     "metadata": {},
     "output_type": "execute_result"
    }
   ],
   "source": [
    "\n",
    "def e17():\n",
    "    numbers_length_dict = {\n",
    "        1: 3, 2: 3, 3: 5, 4: 4, 5: 4,\n",
    "        6: 3, 7: 5, 8: 5, 9: 4, 10: 3,\n",
    "        11: 6, 12: 6, 13: 8, 14: 8, 15: 7,\n",
    "        16: 7, 17: 9, 18: 8, 19: 8, 20: 6,\n",
    "        30: 6, 40: 5, 50: 5,\n",
    "        60: 5, 70: 7, 80: 6, 90: 6, 100: 7\n",
    "    }\n",
    "\n",
    "    def remainder_length(r):\n",
    "        if r in numbers_length_dict:\n",
    "            return numbers_length_dict[r]\n",
    "\n",
    "        tens, ones = r // 10, r % 10\n",
    "        return numbers_length_dict[tens * 10] + numbers_length_dict[ones]\n",
    "\n",
    "    def number_length(n):\n",
    "        hundreds, remainder = n // 100, n % 100\n",
    "        if hundreds == 0:\n",
    "            return remainder_length(remainder)\n",
    "\n",
    "        hundred_length, and_length = 7, 3\n",
    "        if remainder > 0:\n",
    "            return ( numbers_length_dict[hundreds] + hundred_length + and_length + \n",
    "                    remainder_length(remainder) )\n",
    "        else:\n",
    "            return numbers_length_dict[hundreds] + hundred_length \n",
    "        \n",
    "    limit, thousand_length = 1000, 11\n",
    "    return thousand_length + sum( number_length(i) for i in range(1, limit) )\n",
    "\n",
    "e17()\n"
   ]
  },
  {
   "cell_type": "code",
   "execution_count": 30,
   "id": "a304f59c",
   "metadata": {},
   "outputs": [
    {
     "data": {
      "text/plain": [
       "1074"
      ]
     },
     "execution_count": 30,
     "metadata": {},
     "output_type": "execute_result"
    }
   ],
   "source": [
    "def e18():\n",
    "    f = open('e18data.txt')\n",
    "    data = f.read()    \n",
    "    rows = data.strip().split(\"\\n\")\n",
    "    data_triangle = [ [ int(c) for c in s.split(\" \") ] for s in rows ]\n",
    "    max_path_triangle = [ data_triangle[0] ]\n",
    "    \n",
    "    for i in range(1, len( data_triangle) ):\n",
    "        max_row = []\n",
    "        for j in range(i+1):\n",
    "            if j == 0:\n",
    "                max_row.append( max_path_triangle[i-1][0] + data_triangle[i][j] )\n",
    "            if j == i:\n",
    "                max_row.append( max_path_triangle[i-1][i-1] + data_triangle[i][j] )\n",
    "            if j > 0 and j < i:\n",
    "                max_path = max( max_path_triangle[i-1][j-1], max_path_triangle[i-1][j])\n",
    "                max_row.append( max_path + data_triangle[i][j] )\n",
    "        max_path_triangle.append( max_row )\n",
    "    \n",
    "    return max(max_path_triangle[-1])\n",
    "\n",
    "e18()"
   ]
  },
  {
   "cell_type": "code",
   "execution_count": 31,
   "id": "5c30d461",
   "metadata": {},
   "outputs": [
    {
     "data": {
      "text/plain": [
       "648"
      ]
     },
     "execution_count": 31,
     "metadata": {},
     "output_type": "execute_result"
    }
   ],
   "source": [
    "def e20(limit):\n",
    "    return sum_digits( factorial(limit) )\n",
    "\n",
    "e20(100)"
   ]
  },
  {
   "cell_type": "code",
   "execution_count": 32,
   "id": "606dbcf8",
   "metadata": {},
   "outputs": [
    {
     "data": {
      "text/plain": [
       "31626"
      ]
     },
     "execution_count": 32,
     "metadata": {},
     "output_type": "execute_result"
    }
   ],
   "source": [
    "\n",
    "def sum_proper_divisors(n):\n",
    "    return sum( all_divisors(n) ) - n\n",
    "\n",
    "def e21(limit):\n",
    "    amicable_numbers = set()\n",
    "    for i in range(2, limit):\n",
    "        spd = sum_proper_divisors(i)\n",
    "        if i != spd and sum_proper_divisors(spd) == i:\n",
    "            amicable_numbers.add(i)\n",
    "            amicable_numbers.add(spd)\n",
    "             \n",
    "    return sum(amicable_numbers)\n",
    "\n",
    "e21(10 ** 4)"
   ]
  },
  {
   "cell_type": "code",
   "execution_count": 33,
   "id": "d1a7cbee",
   "metadata": {},
   "outputs": [
    {
     "data": {
      "text/plain": [
       "871198282"
      ]
     },
     "execution_count": 33,
     "metadata": {},
     "output_type": "execute_result"
    }
   ],
   "source": [
    "def e22():\n",
    "    f = open('e22data.txt')\n",
    "    data = f.read()    \n",
    "    names = [ s.strip('\"') for s in data.split(\",\") ]\n",
    "    names.sort()\n",
    "\n",
    "    return sum( (idx+1) * word_score(name) for idx, name in enumerate(names) )\n",
    "    \n",
    "e22()"
   ]
  },
  {
   "cell_type": "code",
   "execution_count": 34,
   "id": "163f2574",
   "metadata": {},
   "outputs": [
    {
     "data": {
      "text/plain": [
       "2783915460"
      ]
     },
     "execution_count": 34,
     "metadata": {},
     "output_type": "execute_result"
    }
   ],
   "source": [
    "def e24(limit):\n",
    "\n",
    "    def next_lex( start_list ):\n",
    "        i = len(start_list) - 2\n",
    "        while i >= 0:\n",
    "            if( start_list[i] < start_list[i+1]):\n",
    "                break\n",
    "            i -= 1\n",
    "\n",
    "        if i == -1:\n",
    "            return sorted( start_list )\n",
    "        else:\n",
    "            old_pivot = start_list[i]\n",
    "            end_fragment = sorted( start_list[ i: ] )\n",
    "            new_pivot = end_fragment[ end_fragment.index(old_pivot) + 1 ]\n",
    "            end_fragment.remove( new_pivot )\n",
    "            return start_list[:i] + [ new_pivot ] + end_fragment\n",
    "\n",
    "    current_order = [ 0, 1, 2, 3, 4, 5, 6, 7, 8, 9 ]     \n",
    "    for i in range( 1, limit ):\n",
    "        current_order = next_lex( current_order )\n",
    "            \n",
    "    return int( ''.join(str(n) for n in current_order) )\n",
    "\n",
    "\n",
    "e24( 10 ** 6 )"
   ]
  },
  {
   "cell_type": "code",
   "execution_count": 35,
   "id": "8dc31616",
   "metadata": {},
   "outputs": [
    {
     "data": {
      "text/plain": [
       "4782"
      ]
     },
     "execution_count": 35,
     "metadata": {},
     "output_type": "execute_result"
    }
   ],
   "source": [
    "def e25(limit):\n",
    "    fibo = [ 1, 1 ]\n",
    "    while len(str(fibo[-1])) < limit:\n",
    "        fibo.append( fibo[-1] + fibo[-2] )\n",
    "    return len(fibo)\n",
    "\n",
    "e25(10 ** 3)"
   ]
  },
  {
   "cell_type": "code",
   "execution_count": 36,
   "id": "600a636a",
   "metadata": {},
   "outputs": [
    {
     "data": {
      "text/plain": [
       "-59231"
      ]
     },
     "execution_count": 36,
     "metadata": {},
     "output_type": "execute_result"
    }
   ],
   "source": [
    "def e27(limit):\n",
    "    max_prime_sequence_length = 0\n",
    "    small_primes = [ p for p in primes if p <= limit ]\n",
    "    for a in range( -limit + 1, limit ):\n",
    "        for b in small_primes:\n",
    "            n = 0\n",
    "            while n*n + a*n + b in prime_set:\n",
    "                n += 1    \n",
    "            if n > max_prime_sequence_length:\n",
    "                max_prime_sequence_length, max_a, max_b = n, a, b  \n",
    "                \n",
    "    return max_a * max_b\n",
    "\n",
    "e27(10 ** 3)"
   ]
  },
  {
   "cell_type": "code",
   "execution_count": 37,
   "id": "4551fbb0",
   "metadata": {},
   "outputs": [
    {
     "data": {
      "text/plain": [
       "669171001"
      ]
     },
     "execution_count": 37,
     "metadata": {},
     "output_type": "execute_result"
    }
   ],
   "source": [
    "def e28( grid_size ):\n",
    "    num_rings = grid_size // 2\n",
    "    ret_total, bottom_right_corner, increment = 1, 3, 2\n",
    "    \n",
    "    for _ in range(num_rings):\n",
    "        ret_total += 4 * bottom_right_corner + 6 * increment\n",
    "        bottom_right_corner += 4*increment + 2\n",
    "        increment += 2 \n",
    "\n",
    "    return ret_total\n",
    "\n",
    "e28( 1001 )"
   ]
  },
  {
   "cell_type": "code",
   "execution_count": 38,
   "id": "d1e5da78",
   "metadata": {},
   "outputs": [
    {
     "data": {
      "text/plain": [
       "9183"
      ]
     },
     "execution_count": 38,
     "metadata": {},
     "output_type": "execute_result"
    }
   ],
   "source": [
    "def e29(limit):\n",
    "    exponential_set = set()\n",
    "    for a in range(2, limit+1):\n",
    "        for b in range(2, limit+1):\n",
    "            exponential_set.add( a**b )\n",
    "    return len(exponential_set)\n",
    "\n",
    "e29(100)"
   ]
  },
  {
   "cell_type": "code",
   "execution_count": 39,
   "id": "9dcd0da6",
   "metadata": {},
   "outputs": [
    {
     "data": {
      "text/plain": [
       "443839"
      ]
     },
     "execution_count": 39,
     "metadata": {},
     "output_type": "execute_result"
    }
   ],
   "source": [
    "def e30(limit):\n",
    "    return sum(i for i in range( 10, limit )\n",
    "                   if i == sum( int(c)**5 for c in str(i)) )\n",
    "\n",
    "e30(10 ** 6)"
   ]
  },
  {
   "cell_type": "code",
   "execution_count": 40,
   "id": "214b133e",
   "metadata": {},
   "outputs": [
    {
     "data": {
      "text/plain": [
       "73682"
      ]
     },
     "execution_count": 40,
     "metadata": {},
     "output_type": "execute_result"
    }
   ],
   "source": [
    "def e31( limit ):\n",
    "    memo = {}\n",
    "    coins = [ 1, 2, 5, 10, 20, 50, 100, 200 ]\n",
    "\n",
    "    def partitions( n, coins ):\n",
    "        if n == 1 or n == 0: return 1\n",
    "        if coins[-1] == 1: return 1\n",
    "        if (n, coins[-1]  ) in memo: return memo[ (n, coins[-1]) ]\n",
    "\n",
    "        ret_partition = 0\n",
    "        for i in range( n // coins[-1], -1, -1 ):\n",
    "            ret_partition += partitions( n - i * coins[-1], coins[:-1] ) \n",
    "        \n",
    "        memo[ (n, coins[-1]) ] = ret_partition\n",
    "        return ret_partition\n",
    "\n",
    "    return partitions( limit, coins ) \n",
    "\n",
    "e31(200)"
   ]
  },
  {
   "cell_type": "code",
   "execution_count": 41,
   "id": "4faea94e",
   "metadata": {},
   "outputs": [
    {
     "data": {
      "text/plain": [
       "45228"
      ]
     },
     "execution_count": 41,
     "metadata": {},
     "output_type": "execute_result"
    }
   ],
   "source": [
    "def e32():\n",
    "    pandigital_set = set()\n",
    "    a,b = 1,2\n",
    "    while a < 10 ** 5:\n",
    "        while len(str(a) + str(b) + str(a*b)) < 10:\n",
    "            if is_pandigital( int(str(a) + str(b) + str(a*b)) ) and \\\n",
    "                    len(str(a) + str(b) + str(a*b)) == 9:\n",
    "                pandigital_set.add(a*b)\n",
    "            b += 1\n",
    "        a += 1\n",
    "        b = a + 1\n",
    "    \n",
    "    return sum(pandigital_set)\n",
    "e32()"
   ]
  },
  {
   "cell_type": "code",
   "execution_count": 42,
   "id": "16f27031",
   "metadata": {},
   "outputs": [
    {
     "data": {
      "text/plain": [
       "100"
      ]
     },
     "execution_count": 42,
     "metadata": {},
     "output_type": "execute_result"
    }
   ],
   "source": [
    "def e33():\n",
    "    dcn, dcd = [], [] \n",
    "    for i in range(1, 10):\n",
    "        for j in range(1, 10):\n",
    "            for k in range(1, 10):\n",
    "                if i != j and ( 10 * i + k ) / ( 10 * k + j ) == i / j:\n",
    "                    dcn.append( 10 * i + k )\n",
    "                    dcd.append( 10 * k + j ) \n",
    "                     \n",
    "    big_numerator = reduce( operator.mul, dcn, 1)\n",
    "    big_denominator = reduce( operator.mul, dcd, 1) \n",
    "    return big_denominator // gcd(big_denominator, big_numerator)\n",
    "\n",
    "e33()"
   ]
  },
  {
   "cell_type": "code",
   "execution_count": 43,
   "id": "bc6c09a5",
   "metadata": {},
   "outputs": [
    {
     "data": {
      "text/plain": [
       "40730"
      ]
     },
     "execution_count": 43,
     "metadata": {},
     "output_type": "execute_result"
    }
   ],
   "source": [
    "def e34():\n",
    "    factorial_dict = { n:factorial(n) for n in range(10) }\n",
    "    sum_factorials = []\n",
    "\n",
    "    for i in range(10, 10 ** 6 ):\n",
    "        if  sum( factorial_dict[int(c)] for c in str(i) ) == i:\n",
    "            sum_factorials.append(i)\n",
    "\n",
    "    return sum( sum_factorials )\n",
    "\n",
    "e34()"
   ]
  },
  {
   "cell_type": "code",
   "execution_count": 44,
   "id": "7a31997e",
   "metadata": {},
   "outputs": [
    {
     "data": {
      "text/plain": [
       "55"
      ]
     },
     "execution_count": 44,
     "metadata": {},
     "output_type": "execute_result"
    }
   ],
   "source": [
    "def e35():\n",
    "    def rotate_number(n):\n",
    "        return int( str(n)[-1] + str(n)[:-1])\n",
    "        \n",
    "    circular_primes = []    \n",
    "    for p in primes:\n",
    "        circle_number = p\n",
    "        while circle_number in prime_set:\n",
    "            circle_number = rotate_number(circle_number)\n",
    "            if circle_number == p:\n",
    "                circular_primes.append(p)\n",
    "                break\n",
    "\n",
    "    return len(circular_primes)\n",
    "    \n",
    "e35()"
   ]
  },
  {
   "cell_type": "code",
   "execution_count": 45,
   "id": "7dd8e6d9",
   "metadata": {},
   "outputs": [
    {
     "data": {
      "text/plain": [
       "872187"
      ]
     },
     "execution_count": 45,
     "metadata": {},
     "output_type": "execute_result"
    }
   ],
   "source": [
    "def e36(limit):\n",
    "    def base2(n):\n",
    "        ret_arr = []\n",
    "        while n > 0:\n",
    "            n, k = n//2, n%2\n",
    "            ret_arr.append(k)\n",
    "        return ''.join(str(x) for x in ret_arr)[::-1]\n",
    "\n",
    "    return sum( i for i in range(1, limit) \n",
    "                   if is_palindrome(i) and base2(i) == base2(i)[::-1])\n",
    "\n",
    "e36(10 ** 6)"
   ]
  },
  {
   "cell_type": "code",
   "execution_count": 46,
   "id": "c7513577",
   "metadata": {},
   "outputs": [
    {
     "data": {
      "text/plain": [
       "932718654"
      ]
     },
     "execution_count": 46,
     "metadata": {},
     "output_type": "execute_result"
    }
   ],
   "source": [
    "def e38():\n",
    "    i, j, max_pandigital = 1, 1, 0\n",
    "    while i < 10 ** 4:\n",
    "        j, working_products_str = 1, ''       \n",
    "        while len(working_products_str) < 9:\n",
    "            working_products_str += str(i*j)\n",
    "            j += 1                      \n",
    "        if is_pandigital( int(working_products_str) ) and \\\n",
    "                int(working_products_str) > max_pandigital: \n",
    "            max_pandigital = int( working_products_str )\n",
    "        i += 1\n",
    "            \n",
    "    return int(max_pandigital)\n",
    "\n",
    "e38()"
   ]
  },
  {
   "cell_type": "code",
   "execution_count": 47,
   "id": "dfe14586",
   "metadata": {},
   "outputs": [
    {
     "data": {
      "text/plain": [
       "840"
      ]
     },
     "execution_count": 47,
     "metadata": {},
     "output_type": "execute_result"
    }
   ],
   "source": [
    "def e39(limit):\n",
    "    a, b, integer_right_triangles = 1, 2, defaultdict(int)\n",
    "    while (a**2 + b**2) ** 0.5 <=  limit:\n",
    "        while (a**2 + b**2) ** 0.5 <= limit:\n",
    "            c = (a**2 + b**2) ** 0.5\n",
    "            if c == int(c) and a+b+int(c) <= limit:\n",
    "                integer_right_triangles[ a+b+int(c) ] += 1\n",
    "            b += 1\n",
    "        a += 1\n",
    "        b = a + 1\n",
    "        \n",
    "    return max(integer_right_triangles, key=integer_right_triangles.get)\n",
    "        \n",
    "e39(1000)"
   ]
  },
  {
   "cell_type": "code",
   "execution_count": 48,
   "id": "e2d3ce89",
   "metadata": {},
   "outputs": [
    {
     "data": {
      "text/plain": [
       "210"
      ]
     },
     "execution_count": 48,
     "metadata": {},
     "output_type": "execute_result"
    }
   ],
   "source": [
    "def e40(indexes):\n",
    "    upper_bound = 5 * (10 ** 5)\n",
    "    s = ''.join( map( lambda n: str(n), range(1,upper_bound)) )\n",
    "    digits = map( lambda n: int(s[n-1]), indexes )\n",
    "    return reduce( operator.mul, digits, 1 )\n",
    "\n",
    "e40( [ 1, 10, 100, 1000, 10000, 100000, 1000000 ])"
   ]
  },
  {
   "cell_type": "code",
   "execution_count": 49,
   "id": "effd5dff",
   "metadata": {},
   "outputs": [
    {
     "data": {
      "text/plain": [
       "7652413"
      ]
     },
     "execution_count": 49,
     "metadata": {},
     "output_type": "execute_result"
    }
   ],
   "source": [
    "def e41():\n",
    "    return max( p for p in primes if is_pandigital(p) )\n",
    "\n",
    "e41()"
   ]
  },
  {
   "cell_type": "code",
   "execution_count": 50,
   "id": "e569bb40",
   "metadata": {},
   "outputs": [
    {
     "data": {
      "text/plain": [
       "162"
      ]
     },
     "execution_count": 50,
     "metadata": {},
     "output_type": "execute_result"
    }
   ],
   "source": [
    "def e42():\n",
    "    f = open('e42data.txt')\n",
    "    data = f.read()    \n",
    "    words = [ s.strip('\"') for s in data.split(\",\") ]\n",
    "    triangle_numbers = { i*(i+1)//2 for i in range(1, 500) }\n",
    "    return sum( 1 for w in words if word_score(w) in triangle_numbers )\n",
    "    \n",
    "e42()"
   ]
  },
  {
   "cell_type": "code",
   "execution_count": 51,
   "id": "f68bd39f",
   "metadata": {},
   "outputs": [
    {
     "data": {
      "text/plain": [
       "16695334890"
      ]
     },
     "execution_count": 51,
     "metadata": {},
     "output_type": "execute_result"
    }
   ],
   "source": [
    "def e43():\n",
    "    digits = \"0123456789\"\n",
    "    pandigitals = list(permutations(digits))\n",
    "\n",
    "    ret_sum = 0\n",
    "    for t in pandigitals:\n",
    "        if int(''.join( t[1:4] )) % 2 == 0:\n",
    "            if int(''.join( t[2:5] )) % 3 == 0:\n",
    "                if int(''.join( t[3:6] )) % 5 == 0:\n",
    "                    if int(''.join( t[4:7] )) % 7 == 0:\n",
    "                        if int(''.join( t[5:8] )) % 11 == 0:\n",
    "                            if int(''.join( t[6:9] )) % 13 == 0:\n",
    "                                if int(''.join( t[7:10] )) % 17 == 0:\n",
    "                                    ret_sum += int(''.join(t))\n",
    "    return ret_sum\n",
    "\n",
    "e43()\n"
   ]
  },
  {
   "cell_type": "code",
   "execution_count": 52,
   "id": "47ab9839",
   "metadata": {},
   "outputs": [
    {
     "data": {
      "text/plain": [
       "5482660"
      ]
     },
     "execution_count": 52,
     "metadata": {},
     "output_type": "execute_result"
    }
   ],
   "source": [
    "def e44():\n",
    "    limit = 10 ** 4\n",
    "    pentagonal_list = [ i*(3*i-1)//2 for i in range(1, limit) ]\n",
    "    pentagonal_set = { i*(3*i-1)//2 for i in range(1, limit) }\n",
    "    \n",
    "    index_1, index_2 = 1,2 \n",
    "    while index_1 < len(pentagonal_list):\n",
    "        while index_2 < len(pentagonal_list):\n",
    "            a, b = pentagonal_list[index_1], pentagonal_list[index_2]\n",
    "            if a+b in pentagonal_set and b-a in pentagonal_set:\n",
    "                return b-a\n",
    "            index_2 += 1\n",
    "        index_1 += 1\n",
    "        index_2 = index_1 + 1\n",
    "\n",
    "    return 'no solution'\n",
    "e44()"
   ]
  },
  {
   "cell_type": "code",
   "execution_count": 53,
   "id": "4175c949",
   "metadata": {},
   "outputs": [
    {
     "data": {
      "text/plain": [
       "1533776805"
      ]
     },
     "execution_count": 53,
     "metadata": {},
     "output_type": "execute_result"
    }
   ],
   "source": [
    "def e45():\n",
    "    limit = 10 ** 5\n",
    "    triangle_numbers = { i*(i+1)//2 for i in range(1, limit) }\n",
    "    pentagonal_numbers = { i*(3*i-1)//2 for i in range(1, limit) }\n",
    "    hex_numbers = { i*(2*i-1) for i in range(1, limit) }\n",
    "    return sorted(list(triangle_numbers & pentagonal_numbers & hex_numbers))[2]\n",
    "\n",
    "e45()"
   ]
  },
  {
   "cell_type": "code",
   "execution_count": 54,
   "id": "5ab89792",
   "metadata": {},
   "outputs": [
    {
     "data": {
      "text/plain": [
       "134043"
      ]
     },
     "execution_count": 54,
     "metadata": {},
     "output_type": "execute_result"
    }
   ],
   "source": [
    "def e47():\n",
    "    limit, num_distinct_prime_factors = 10 ** 6, {}\n",
    "    for i in range(2, limit):\n",
    "        num_distinct_prime_factors[i] = len(prime_factors(i))\n",
    "\n",
    "    for i in range(2, limit - 3):\n",
    "        if num_distinct_prime_factors[i] == 4 and \\\n",
    "                num_distinct_prime_factors[i+1] == 4 and \\\n",
    "                num_distinct_prime_factors[i+2] == 4 and \\\n",
    "                num_distinct_prime_factors[i+3] == 4:\n",
    "\n",
    "            return i\n",
    "        \n",
    "    return 'no solution'\n",
    "\n",
    "e47()"
   ]
  },
  {
   "cell_type": "code",
   "execution_count": 55,
   "id": "637fa449",
   "metadata": {},
   "outputs": [
    {
     "data": {
      "text/plain": [
       "9110846700"
      ]
     },
     "execution_count": 55,
     "metadata": {},
     "output_type": "execute_result"
    }
   ],
   "source": [
    "def e48(limit):\n",
    "    self_power = lambda a:  (a ** a) % (10 ** 10)\n",
    "    return  sum( map( self_power, range(1, limit+1) )) % (10 ** 10 )\n",
    "e48(1000)"
   ]
  },
  {
   "cell_type": "code",
   "execution_count": 56,
   "id": "5cbaea25",
   "metadata": {},
   "outputs": [
    {
     "data": {
      "text/plain": [
       "142857"
      ]
     },
     "execution_count": 56,
     "metadata": {},
     "output_type": "execute_result"
    }
   ],
   "source": [
    "def e52():\n",
    "    n = 12\n",
    "    while True:\n",
    "        if bool_digit_permutation(n, 2*n):\n",
    "            if bool_digit_permutation(n, 3*n):\n",
    "                if bool_digit_permutation(n, 4*n):\n",
    "                    if bool_digit_permutation(n, 5*n):\n",
    "                        if bool_digit_permutation(n, 6*n):\n",
    "                            break\n",
    "        n += 1\n",
    "    return n\n",
    "    \n",
    "e52()"
   ]
  },
  {
   "cell_type": "code",
   "execution_count": 57,
   "id": "ecf98beb",
   "metadata": {},
   "outputs": [
    {
     "data": {
      "text/plain": [
       "4075"
      ]
     },
     "execution_count": 57,
     "metadata": {},
     "output_type": "execute_result"
    }
   ],
   "source": [
    "def e53(limit):\n",
    "    ret_val = 0\n",
    "    for n in range(1, limit+1):\n",
    "        for r in range(limit+1):\n",
    "            if combinations(n, r) > 10 ** 6:\n",
    "                ret_val += 1\n",
    "    return ret_val\n",
    "\n",
    "e53(100)"
   ]
  },
  {
   "cell_type": "code",
   "execution_count": 58,
   "id": "39ba1e4b",
   "metadata": {},
   "outputs": [
    {
     "data": {
      "text/plain": [
       "249"
      ]
     },
     "execution_count": 58,
     "metadata": {},
     "output_type": "execute_result"
    }
   ],
   "source": [
    "def e55(limit):\n",
    "    reverse_and_add = lambda n: n + reverse(n)\n",
    "\n",
    "    lychrel_total = 0\n",
    "    for maybe_lychrel in range(10, limit):\n",
    "        current_number, i, is_lychrel = maybe_lychrel, 0, True\n",
    "        while i < 50:\n",
    "            if is_palindrome( reverse_and_add(current_number) ):\n",
    "                is_lychrel = False\n",
    "                break\n",
    "            current_number = reverse_and_add(current_number)\n",
    "            i += 1          \n",
    "        if is_lychrel:\n",
    "            lychrel_total += 1\n",
    "\n",
    "    return lychrel_total\n",
    "\n",
    "e55(10 ** 4)"
   ]
  },
  {
   "cell_type": "code",
   "execution_count": 59,
   "id": "4c21710f",
   "metadata": {},
   "outputs": [
    {
     "data": {
      "text/plain": [
       "972"
      ]
     },
     "execution_count": 59,
     "metadata": {},
     "output_type": "execute_result"
    }
   ],
   "source": [
    "def e56(limit):\n",
    "    return max( sum_digits(a**b) for a in range(limit) for b in range(limit) )\n",
    "    \n",
    "e56(100)"
   ]
  },
  {
   "cell_type": "code",
   "execution_count": 99,
   "id": "dc10791e",
   "metadata": {},
   "outputs": [
    {
     "data": {
      "text/plain": [
       "153"
      ]
     },
     "execution_count": 99,
     "metadata": {},
     "output_type": "execute_result"
    }
   ],
   "source": [
    "def e57(limit):\n",
    "    i, a, b, count = 2, 2, 5, 0\n",
    "    while i <= limit:\n",
    "        if len(str(a+b)) > len(str(b)):\n",
    "            count += 1\n",
    "        i, a, b = i+1, b, 2*b + a\n",
    "    return count\n",
    "            \n",
    "e57(1000)"
   ]
  },
  {
   "cell_type": "code",
   "execution_count": 108,
   "id": "0f3a0aef",
   "metadata": {},
   "outputs": [
    {
     "data": {
      "text/plain": [
       "49"
      ]
     },
     "execution_count": 108,
     "metadata": {},
     "output_type": "execute_result"
    }
   ],
   "source": [
    "def e63():\n",
    "    ret_set = set()\n",
    "    for a in range(1, 10):\n",
    "        b = 1\n",
    "        while a ** b >= 10 ** (b-1):\n",
    "            ret_set.add(a ** b)\n",
    "            b += 1\n",
    "    \n",
    "    return len(ret_set)\n",
    "\n",
    "e63()\n"
   ]
  },
  {
   "cell_type": "code",
   "execution_count": 60,
   "id": "f3b45272",
   "metadata": {},
   "outputs": [
    {
     "data": {
      "text/plain": [
       "7273"
      ]
     },
     "execution_count": 60,
     "metadata": {},
     "output_type": "execute_result"
    }
   ],
   "source": [
    "def e67():\n",
    "    f = open('e67data.txt')\n",
    "    data = f.read()    \n",
    "    rows = data.strip().split(\"\\n\")\n",
    "    data_triangle = [ [ int(c) for c in s.split(\" \") ] for s in rows ]\n",
    "    max_path_triangle = [ data_triangle[0] ]\n",
    "    \n",
    "    for i in range(1, len( data_triangle) ):\n",
    "        max_row = []\n",
    "        for j in range(i+1):\n",
    "            if j == 0:\n",
    "                max_row.append( max_path_triangle[i-1][0] + data_triangle[i][j] )\n",
    "            if j == i:\n",
    "                max_row.append( max_path_triangle[i-1][i-1] + data_triangle[i][j] )\n",
    "            if j > 0 and j < i:\n",
    "                max_path = max( max_path_triangle[i-1][j-1], max_path_triangle[i-1][j])\n",
    "                max_row.append( max_path + data_triangle[i][j] )\n",
    "        max_path_triangle.append( max_row )\n",
    "    \n",
    "    return max(max_path_triangle[-1])\n",
    "\n",
    "e67()"
   ]
  },
  {
   "cell_type": "code",
   "execution_count": 61,
   "id": "a9718387",
   "metadata": {},
   "outputs": [
    {
     "data": {
      "text/plain": [
       "510510"
      ]
     },
     "execution_count": 61,
     "metadata": {},
     "output_type": "execute_result"
    }
   ],
   "source": [
    "def e69(limit):\n",
    "    prime_iter, my_product = iter(primes), 1\n",
    "    while True:\n",
    "        p = next(prime_iter)\n",
    "        if my_product * p <= limit:\n",
    "            my_product *= p\n",
    "        else:\n",
    "            break\n",
    "\n",
    "    return my_product\n",
    "    \n",
    "e69(10 ** 6)"
   ]
  },
  {
   "cell_type": "code",
   "execution_count": 62,
   "id": "48a9f2d6",
   "metadata": {},
   "outputs": [
    {
     "data": {
      "text/plain": [
       "8319823"
      ]
     },
     "execution_count": 62,
     "metadata": {},
     "output_type": "execute_result"
    }
   ],
   "source": [
    "def e70(limit):\n",
    "    p_index, min_ratio, subset_min = 0, 2, 0.7 * (limit ** 0.5)\n",
    "    my_primes = list(filter( lambda p: p > subset_min, primes ))\n",
    "    p = my_primes[p_index]\n",
    "    \n",
    "    #####\n",
    "    \n",
    "    phi = lambda p, q: (p-1)*(q-1)\n",
    "    phi_ratio = lambda p, q: p * q / (p-1) / (q-1)\n",
    "    \n",
    "    ### redefined these fns from the utils section above \n",
    "    ### to use the knowledge of p*q as the product of two disinct primes\n",
    "    ### speeds up algo by a lot\n",
    "    \n",
    "    while p ** 2 < limit:\n",
    "        q_index = p_index + 1\n",
    "        q = my_primes[q_index]\n",
    "        while p * q < limit:\n",
    "            if bool_digit_permutation(p*q, phi(p,q)):\n",
    "                if phi_ratio(p, q) < min_ratio:\n",
    "                    min_ratio = phi_ratio(p, q)\n",
    "                    argmax = p*q\n",
    "            q_index += 1\n",
    "            q = my_primes[q_index]\n",
    "        p_index += 1\n",
    "        p = my_primes[p_index]        \n",
    "    return argmax\n",
    "    \n",
    "e70(10 ** 7)"
   ]
  },
  {
   "cell_type": "code",
   "execution_count": 63,
   "id": "8591f653",
   "metadata": {},
   "outputs": [
    {
     "data": {
      "text/plain": [
       "303963552391"
      ]
     },
     "execution_count": 63,
     "metadata": {},
     "output_type": "execute_result"
    }
   ],
   "source": [
    "def e72(limit):\n",
    "    totients = [1 for i in range(limit+1)]\n",
    "    for i in range(2, limit + 1):\n",
    "        if totients[i] == 1:\n",
    "            for j in range(i, limit + 1, i):\n",
    "                totients[j] *= i - 1\n",
    "                k = j / i\n",
    "                while k % i == 0:\n",
    "                    totients[j] *= i\n",
    "                    k /= i\n",
    "    \n",
    "    return sum(totients[2:])\n",
    "\n",
    "e72(10 ** 6)"
   ]
  },
  {
   "cell_type": "code",
   "execution_count": 64,
   "id": "940c07a0",
   "metadata": {},
   "outputs": [
    {
     "data": {
      "text/plain": [
       "7295372"
      ]
     },
     "execution_count": 64,
     "metadata": {},
     "output_type": "execute_result"
    }
   ],
   "source": [
    "def e73(limit):\n",
    "\n",
    "    ret_total = 0\n",
    "    for d in range(3, limit+1):\n",
    "        for n  in range( d//3 + 1, d//2 + 1):\n",
    "            if gcd( n, d ) == 1:\n",
    "                ret_total += 1\n",
    "\n",
    "    return ret_total\n",
    "\n",
    "e73(12000)"
   ]
  },
  {
   "cell_type": "code",
   "execution_count": 65,
   "id": "d6a25c23",
   "metadata": {},
   "outputs": [
    {
     "data": {
      "text/plain": [
       "2772"
      ]
     },
     "execution_count": 65,
     "metadata": {},
     "output_type": "execute_result"
    }
   ],
   "source": [
    "def e85(limit):\n",
    "    \n",
    "    def num_rectangles(height, width):        \n",
    "        ret_total = 0\n",
    "        for h in range(1, height + 1):\n",
    "            for w in range(1, width + 1):\n",
    "                v_positions = height - h + 1\n",
    "                h_positions = width - w + 1\n",
    "                ret_total += h_positions * v_positions\n",
    "        return ret_total\n",
    "    \n",
    "    a, b, error, tolerance = 1, 1, limit, 0.1\n",
    "    while num_rectangles(a, b) < (1 + tolerance) * limit:\n",
    "        while num_rectangles(a, b) < (1 + tolerance) * limit:\n",
    "            if abs( num_rectangles(a, b) - limit ) < error:\n",
    "                ret_a, ret_b, error = a, b, abs( num_rectangles(a, b) - limit )\n",
    "            b += 1\n",
    "        a += 1\n",
    "        b = a\n",
    "        \n",
    "    return ret_a * ret_b\n",
    "    \n",
    "e85(2 * 10 ** 6)"
   ]
  },
  {
   "cell_type": "code",
   "execution_count": 66,
   "id": "2d660202",
   "metadata": {},
   "outputs": [
    {
     "data": {
      "text/plain": [
       "14234"
      ]
     },
     "execution_count": 66,
     "metadata": {},
     "output_type": "execute_result"
    }
   ],
   "source": [
    "def e91(limit):\n",
    "\n",
    "    numtriangles = 0\n",
    "    for x1 in range(1, limit+1):\n",
    "        for y1 in range(1, limit+1):\n",
    "            m1 = y1 / x1\n",
    "            for x2 in range(0, limit + 1):\n",
    "                for y2 in range(0, limit + 1):\n",
    "                        if x2 != x1:\n",
    "                            m2 = (y2 - y1) / (x2 - x1)\n",
    "                            if abs(m1 * m2 + 1) < 0.0001:\n",
    "                                numtriangles += 1\n",
    "\n",
    "    return 3 * limit * limit + numtriangles \n",
    "    \n",
    "    ### the 3 limit^2 are as follows:\n",
    "    \n",
    "    ### p is any point on the x axis (!=0) and q is any point on the y axis\n",
    "    ### also != 0.  This creats a right triangle w a right angle at the origin\n",
    "    ### limit^2\n",
    "    \n",
    "    ### p is any point on the x axis and q is any point directly above p,\n",
    "    ### a right triangle with a right angle on the x axis\n",
    "    ### similarly if p is a point on the y-axis\n",
    "    \n",
    "    ### num triangles counts the other triangles where this is a right angle\n",
    "    ### in the interior of the grid.  It's verified by m1 * m2 == -1\n",
    "    ### for perpendicular lines.\n",
    "e91(50)"
   ]
  },
  {
   "cell_type": "code",
   "execution_count": 67,
   "id": "5a33ed03",
   "metadata": {},
   "outputs": [
    {
     "name": "stdout",
     "output_type": "stream",
     "text": [
      "8581146\n"
     ]
    }
   ],
   "source": [
    "def e92(limit):\n",
    "    square_digits_sum = lambda n: sum( int(c) ** 2 for c in str(n) )\n",
    "    \n",
    "    digits_dict = {}\n",
    "    ret_counter = 0\n",
    "    \n",
    "    ## this works\n",
    "    ## seems a bit sloppy to me to reassign the index var\n",
    "    ## in the middle of a for loop, but it does work\n",
    "    \n",
    "    for i in range(1, limit):\n",
    "        digits = ''.join(sorted(str(i)))\n",
    "        if digits in digits_dict:\n",
    "            i = digits_dict[ digits ]\n",
    "\n",
    "        while i != 1 and i != 89:\n",
    "            i = square_digits_sum(i)\n",
    "        digits_dict[ digits ] = i\n",
    "\n",
    "        if i == 89:\n",
    "            ret_counter += 1\n",
    "            \n",
    "    return ret_counter\n",
    "        \n",
    "print( e92(10 ** 7) )"
   ]
  },
  {
   "cell_type": "code",
   "execution_count": 68,
   "id": "d9035978",
   "metadata": {},
   "outputs": [
    {
     "data": {
      "text/plain": [
       "8739992577"
      ]
     },
     "execution_count": 68,
     "metadata": {},
     "output_type": "execute_result"
    }
   ],
   "source": [
    "def e97():\n",
    "    big_num = 1\n",
    "    for _ in range(7830457):\n",
    "        big_num = big_num * 2 % (10 ** 10)\n",
    "    return (28433 * big_num + 1) % (10 ** 10)\n",
    "        \n",
    "e97()"
   ]
  },
  {
   "cell_type": "code",
   "execution_count": 69,
   "id": "c07b5ee3",
   "metadata": {},
   "outputs": [
    {
     "data": {
      "text/plain": [
       "709"
      ]
     },
     "execution_count": 69,
     "metadata": {},
     "output_type": "execute_result"
    }
   ],
   "source": [
    "def e99():\n",
    "    f = open('e99data.txt')\n",
    "    lines = f.readlines()\n",
    "    max_exp, max_idx = 0, 0\n",
    "    power_list = [ int( s.partition(',')[2] ) * math.log( int(s.partition(',')[0]) ) \n",
    "                  for s in lines ]\n",
    "    \n",
    "    for i,v in enumerate(power_list):\n",
    "        if v > max_exp:\n",
    "            max_idx, max_exp = i, v\n",
    "            \n",
    "    return max_idx + 1\n",
    "\n",
    "e99()"
   ]
  },
  {
   "cell_type": "code",
   "execution_count": 70,
   "id": "17040ec6",
   "metadata": {},
   "outputs": [
    {
     "data": {
      "text/plain": [
       "228"
      ]
     },
     "execution_count": 70,
     "metadata": {},
     "output_type": "execute_result"
    }
   ],
   "source": [
    "def e102():\n",
    "    f = open('e102data.txt')\n",
    "    data = f.read()\n",
    "    lines = data.strip().split('\\n')\n",
    "    \n",
    "    get_triangle = lambda l: [ int(s) for s in l.split(',') ]\n",
    "    triangles = list(map( get_triangle, lines ))\n",
    "    \n",
    "    def line_in_plane(x1, y1, x2, y2):\n",
    "        if x1 == x2:\n",
    "            l, m, n = 1, 0, -x1\n",
    "        else:\n",
    "            l, m, n = (y2 - y1)/(x2 - x1), -1, y1 - x1 * (y2 - y1) / (x2 - x1)\n",
    "        return l, m, n\n",
    "    \n",
    "    same_side_as_origin = lambda l, m, n, x, y: n * (l*x + m*y + n) > 0\n",
    "    \n",
    "    triangles_containing_origin = 0\n",
    "    for t in triangles:\n",
    "        l12, m12, n12 = line_in_plane(t[0], t[1], t[2], t[3])\n",
    "        l13, m13, n13 = line_in_plane(t[0], t[1], t[4], t[5])\n",
    "        l23, m23, n23 = line_in_plane(t[2], t[3], t[4], t[5])\n",
    "        \n",
    "        if same_side_as_origin( l12, m12, n12, t[4], t[5]) and \\\n",
    "            same_side_as_origin( l13, m13, n13, t[2], t[3]) and \\\n",
    "            same_side_as_origin( l23, m23, n23, t[0], t[1]):\n",
    "                triangles_containing_origin += 1\n",
    "    \n",
    "    return triangles_containing_origin\n",
    "\n",
    "e102()"
   ]
  },
  {
   "cell_type": "code",
   "execution_count": 71,
   "id": "1bdacd3d",
   "metadata": {},
   "outputs": [
    {
     "data": {
      "text/plain": [
       "329468"
      ]
     },
     "execution_count": 71,
     "metadata": {},
     "output_type": "execute_result"
    }
   ],
   "source": [
    "def e104():\n",
    "    k, F1, F2, f1, f2 = 2, 1, 1, 1, 1\n",
    "    while True:\n",
    "        k, F1, F2, f1, f2 = k+1, F1 + F2, F1, (f1+f2) % (10 ** 9), f1\n",
    "        if ''.join( sorted(str(f1))) == \"123456789\" and ''.join( sorted( str(F1)[:9])) == \"123456789\":\n",
    "            break\n",
    "    return k\n",
    "\n",
    "e104()"
   ]
  },
  {
   "cell_type": "code",
   "execution_count": 97,
   "id": "bdf727ee",
   "metadata": {},
   "outputs": [
    {
     "data": {
      "text/plain": [
       "1587000"
      ]
     },
     "execution_count": 97,
     "metadata": {},
     "output_type": "execute_result"
    }
   ],
   "source": [
    "\n",
    "def e112(threshold):\n",
    "    \n",
    "    def is_bouncy(n):\n",
    "        down_flag, up_flag, s = False, False, str(n)\n",
    "        prior_char = s[0]\n",
    "        for c in s[1:]:\n",
    "            if prior_char > c:\n",
    "                down_flag = True\n",
    "            if prior_char < c:\n",
    "                up_flag = True\n",
    "            if down_flag and up_flag:\n",
    "                return 1\n",
    "            prior_char = c           \n",
    "        return 0\n",
    "\n",
    "    bouncy_total, iii = 0, 1   \n",
    "    while True:\n",
    "        bouncy_total += is_bouncy(iii)\n",
    "        if bouncy_total / iii >= threshold:\n",
    "            break\n",
    "        iii += 1\n",
    "        \n",
    "    return iii\n",
    "\n",
    "e112(0.99)\n"
   ]
  },
  {
   "cell_type": "code",
   "execution_count": 72,
   "id": "e300ec4d",
   "metadata": {},
   "outputs": [
    {
     "data": {
      "text/plain": [
       "608720"
      ]
     },
     "execution_count": 72,
     "metadata": {},
     "output_type": "execute_result"
    }
   ],
   "source": [
    "def e145(limit):\n",
    "    ret_total = 0\n",
    "    for i in range( 1, limit+1):\n",
    "        if i % 2 == 0:\n",
    "            k = i // 2\n",
    "            ret_total += 20 * 30 ** (k-1)\n",
    "        if i % 4 == 3:\n",
    "            k = (i - 3) // 4\n",
    "            ret_total += 100 * 500 ** k\n",
    "        if i % 4 == 1:\n",
    "            continue\n",
    "        \n",
    "    return ret_total\n",
    "\n",
    "e145(9)\n"
   ]
  },
  {
   "cell_type": "code",
   "execution_count": 73,
   "id": "2f87e2f5",
   "metadata": {},
   "outputs": [
    {
     "data": {
      "text/plain": [
       "2129970655314432"
      ]
     },
     "execution_count": 73,
     "metadata": {},
     "output_type": "execute_result"
    }
   ],
   "source": [
    "def e148(limit):\n",
    "    def base7(n):\n",
    "        ret_arr = []\n",
    "        while n > 0:\n",
    "            n, k = n//7, n%7\n",
    "            ret_arr.append(k)\n",
    "        return ret_arr[::-1]\n",
    "\n",
    "    def f(arr):\n",
    "        if not arr: return 0\n",
    "        d = arr[0]\n",
    "        return (d*(d+1)//2) * (28 ** ( len(arr) -1 )) + (d+1)*f(arr[1:])\n",
    "           \n",
    "    return f( base7(limit) )\n",
    "    \n",
    "e148( 10 ** 9 )"
   ]
  },
  {
   "cell_type": "code",
   "execution_count": 74,
   "id": "c986c39c",
   "metadata": {},
   "outputs": [
    {
     "data": {
      "text/plain": [
       "17427258"
      ]
     },
     "execution_count": 74,
     "metadata": {},
     "output_type": "execute_result"
    }
   ],
   "source": [
    "def e187(limit):\n",
    "    ret_counter, i, j = 0, 0, 0\n",
    "    while many_primes[i] * many_primes[j] < limit:\n",
    "        while many_primes[i] * many_primes[j] < limit:\n",
    "            ret_counter += 1\n",
    "            j += 1\n",
    "        i += 1\n",
    "        j = i\n",
    "    return ret_counter\n",
    "\n",
    "e187(10 ** 8)"
   ]
  },
  {
   "cell_type": "code",
   "execution_count": 75,
   "id": "ae60f29b",
   "metadata": {},
   "outputs": [
    {
     "data": {
      "text/plain": [
       "892371480"
      ]
     },
     "execution_count": 75,
     "metadata": {},
     "output_type": "execute_result"
    }
   ],
   "source": [
    "def e243(a, b):\n",
    "    i, j = 0, 0\n",
    "    prime_product = primes[i]\n",
    "    \n",
    "    while  b * phi( prime_product ) >= a * (prime_product - 1):\n",
    "        while 2 ** (j+1) < primes[i+1]:\n",
    "            d = prime_product * (2 ** j)\n",
    "            if  b * phi( d ) < a * (d - 1):\n",
    "                return d\n",
    "            else:            \n",
    "                j += 1  \n",
    "        i += 1\n",
    "        j = 0\n",
    "        prime_product *= primes[i]\n",
    "        \n",
    "    return prime_product\n",
    "\n",
    "e243(15499, 94744)"
   ]
  },
  {
   "cell_type": "code",
   "execution_count": 76,
   "id": "11360c43",
   "metadata": {},
   "outputs": [
    {
     "data": {
      "text/plain": [
       "43.22562551498413"
      ]
     },
     "execution_count": 76,
     "metadata": {},
     "output_type": "execute_result"
    }
   ],
   "source": [
    "end = time.time()\n",
    "elapsed = end - start\n",
    "elapsed"
   ]
  },
  {
   "cell_type": "code",
   "execution_count": null,
   "id": "4c41657a",
   "metadata": {},
   "outputs": [],
   "source": []
  }
 ],
 "metadata": {
  "kernelspec": {
   "display_name": "Python 3 (ipykernel)",
   "language": "python",
   "name": "python3"
  },
  "language_info": {
   "codemirror_mode": {
    "name": "ipython",
    "version": 3
   },
   "file_extension": ".py",
   "mimetype": "text/x-python",
   "name": "python",
   "nbconvert_exporter": "python",
   "pygments_lexer": "ipython3",
   "version": "3.10.6"
  }
 },
 "nbformat": 4,
 "nbformat_minor": 5
}
