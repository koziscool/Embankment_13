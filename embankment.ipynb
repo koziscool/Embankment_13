{
 "cells": [
  {
   "cell_type": "code",
   "execution_count": 1,
   "id": "706efac7",
   "metadata": {},
   "outputs": [],
   "source": [
    "import time\n",
    "start = time.time()"
   ]
  },
  {
   "cell_type": "code",
   "execution_count": 2,
   "id": "75be161a",
   "metadata": {},
   "outputs": [],
   "source": [
    "import math\n",
    "from functools import reduce\n",
    "from collections import defaultdict\n",
    "import operator"
   ]
  },
  {
   "cell_type": "code",
   "execution_count": 31,
   "id": "79411bfb",
   "metadata": {},
   "outputs": [
    {
     "name": "stdout",
     "output_type": "stream",
     "text": [
      "1\n"
     ]
    }
   ],
   "source": [
    "factorial = lambda n: reduce( operator.mul, range(1, n+1), 1 )\n",
    "combinations = lambda n, r: factorial(n) // factorial(r) // factorial(n-r)\n",
    "add_digits = lambda c1, c2: int(c1) + int(c2)\n",
    "sum_digits = lambda n: reduce( add_digits, str(n), 0 )"
   ]
  },
  {
   "cell_type": "code",
   "execution_count": 4,
   "id": "9c5c840b",
   "metadata": {},
   "outputs": [
    {
     "data": {
      "text/plain": [
       "664579"
      ]
     },
     "execution_count": 4,
     "metadata": {},
     "output_type": "execute_result"
    }
   ],
   "source": [
    "def get_primes(n):\n",
    "    \"\"\" Returns  a list of primes < n \"\"\"\n",
    "    sieve = [True] * n\n",
    "    for i in range(3,int(n**0.5)+1,2):\n",
    "        if sieve[i]:\n",
    "            sieve[i*i::2*i]=[False]*((n-i*i-1)//(2*i)+1)\n",
    "    return [2] + [i for i in range(3,n,2) if sieve[i]]\n",
    "\n",
    "primes = get_primes(10 ** 7)\n",
    "len(primes)"
   ]
  },
  {
   "cell_type": "code",
   "execution_count": 5,
   "id": "d1a12319",
   "metadata": {},
   "outputs": [],
   "source": [
    "def prime_factors(n):\n",
    "    remainder, factors_dic = n, defaultdict(int)\n",
    "    \n",
    "    for p in primes:\n",
    "        if remainder == 1 or p ** 2 > remainder:\n",
    "            break       \n",
    "        while remainder % p == 0:\n",
    "            remainder //= p\n",
    "            factors_dic[p] += 1\n",
    "        \n",
    "    if remainder > 1:\n",
    "        factors_dic[remainder] = 1\n",
    "    \n",
    "    return factors_dic"
   ]
  },
  {
   "cell_type": "code",
   "execution_count": 6,
   "id": "f2c89ab8",
   "metadata": {},
   "outputs": [],
   "source": [
    "def num_factors( n ):\n",
    "    d = prime_factors(n)\n",
    "    return reduce( lambda product, value: product * (value + 1), d.values(), 1 )"
   ]
  },
  {
   "cell_type": "code",
   "execution_count": 7,
   "id": "53f0c98e",
   "metadata": {},
   "outputs": [
    {
     "data": {
      "text/plain": [
       "233168"
      ]
     },
     "execution_count": 7,
     "metadata": {},
     "output_type": "execute_result"
    }
   ],
   "source": [
    "def e1(limit):\n",
    "    div_by_3_or_5 = lambda n: n % 3 == 0 or n % 5 == 0\n",
    "    return sum( filter( div_by_3_or_5, range(limit) ))\n",
    "\n",
    "e1(1000)"
   ]
  },
  {
   "cell_type": "code",
   "execution_count": 8,
   "id": "42cc1e98",
   "metadata": {},
   "outputs": [
    {
     "data": {
      "text/plain": [
       "4613732"
      ]
     },
     "execution_count": 8,
     "metadata": {},
     "output_type": "execute_result"
    }
   ],
   "source": [
    "def e2(limit):\n",
    "    fibo, fibo_total = [ 1, 2 ], 2\n",
    "    while fibo[-1] < limit:\n",
    "        new_elt = fibo[-1] + fibo[-2]\n",
    "        if new_elt % 2 == 0:\n",
    "            fibo_total += new_elt\n",
    "        fibo.append( new_elt )\n",
    "        \n",
    "    return fibo_total\n",
    "        \n",
    "e2( 4 * 10 ** 6 )"
   ]
  },
  {
   "cell_type": "code",
   "execution_count": 9,
   "id": "2fa875d7",
   "metadata": {},
   "outputs": [
    {
     "data": {
      "text/plain": [
       "6857"
      ]
     },
     "execution_count": 9,
     "metadata": {},
     "output_type": "execute_result"
    }
   ],
   "source": [
    "def e3(n):\n",
    "    max_prime, remainder = 0, n\n",
    "    \n",
    "    for p in primes:\n",
    "        if remainder == 1 or p ** 2 >= remainder:\n",
    "            break  \n",
    "        if remainder % p == 0:\n",
    "            max_prime = p       \n",
    "        while remainder % p == 0:\n",
    "            remainder //= p\n",
    "        \n",
    "    return max_prime if remainder == 1 else remainder\n",
    "        \n",
    "e3(600851475143)"
   ]
  },
  {
   "cell_type": "code",
   "execution_count": 10,
   "id": "944adbaa",
   "metadata": {},
   "outputs": [
    {
     "data": {
      "text/plain": [
       "906609"
      ]
     },
     "execution_count": 10,
     "metadata": {},
     "output_type": "execute_result"
    }
   ],
   "source": [
    "def e4():\n",
    "    is_pal = lambda n: n == int(str(n)[::-1])\n",
    "    max_pal = 0\n",
    "    \n",
    "    for a in range(100,1000):\n",
    "        for b in range( a, 1000 ):\n",
    "            if is_pal(a*b) and a*b > max_pal:\n",
    "                max_pal = a*b\n",
    "    \n",
    "    return max_pal\n",
    "    \n",
    "e4()"
   ]
  },
  {
   "cell_type": "code",
   "execution_count": 11,
   "id": "c2754e99",
   "metadata": {},
   "outputs": [
    {
     "data": {
      "text/plain": [
       "232792560"
      ]
     },
     "execution_count": 11,
     "metadata": {},
     "output_type": "execute_result"
    }
   ],
   "source": [
    "def e5(limit):\n",
    "    ret_val = 1\n",
    "    small_primes = filter( lambda n: n <= limit, primes )\n",
    "    for p in small_primes:\n",
    "        prime_power = p\n",
    "        while prime_power * p < limit:\n",
    "            prime_power *= p\n",
    "        ret_val *= prime_power        \n",
    "    return ret_val\n",
    "    \n",
    "e5(20)"
   ]
  },
  {
   "cell_type": "code",
   "execution_count": 12,
   "id": "eee22e92",
   "metadata": {},
   "outputs": [
    {
     "data": {
      "text/plain": [
       "25164150"
      ]
     },
     "execution_count": 12,
     "metadata": {},
     "output_type": "execute_result"
    }
   ],
   "source": [
    "def e6(limit):\n",
    "    sum_squares = sum( map(lambda n: n*n, range(limit+1)) )\n",
    "    square_sum = sum(range(limit+1)) ** 2\n",
    "    return square_sum - sum_squares\n",
    "\n",
    "e6(100)"
   ]
  },
  {
   "cell_type": "code",
   "execution_count": 13,
   "id": "434050ce",
   "metadata": {},
   "outputs": [
    {
     "data": {
      "text/plain": [
       "104743"
      ]
     },
     "execution_count": 13,
     "metadata": {},
     "output_type": "execute_result"
    }
   ],
   "source": [
    "def e7(limit):\n",
    "    return primes[limit-1]\n",
    "\n",
    "e7(10001)"
   ]
  },
  {
   "cell_type": "code",
   "execution_count": 14,
   "id": "5481184a",
   "metadata": {},
   "outputs": [
    {
     "data": {
      "text/plain": [
       "23514624000"
      ]
     },
     "execution_count": 14,
     "metadata": {},
     "output_type": "execute_result"
    }
   ],
   "source": [
    "def e8( adjacent_length ):\n",
    "    f = open('e8data.txt')\n",
    "    lines = f.readlines()\n",
    "    digits = ''.join( lines )\n",
    "    digits = ''.join( digits.split('\\n') )\n",
    "\n",
    "    max_product = 0\n",
    "    for i in range( len(digits) - adjacent_length ):\n",
    "        this_product = 1\n",
    "        for j in range(adjacent_length):\n",
    "            this_product *= int( digits[ i+j ] )\n",
    "        if this_product > max_product:\n",
    "            max_product = this_product\n",
    "            \n",
    "    return max_product\n",
    "            \n",
    "\n",
    "e8(13)"
   ]
  },
  {
   "cell_type": "code",
   "execution_count": 15,
   "id": "776c5ebf",
   "metadata": {},
   "outputs": [
    {
     "data": {
      "text/plain": [
       "31875000"
      ]
     },
     "execution_count": 15,
     "metadata": {},
     "output_type": "execute_result"
    }
   ],
   "source": [
    "def e9(limit):\n",
    "    a, b = 1, 2\n",
    "    c = (a*a +b*b) ** 0.5\n",
    "    while a + b + c <= limit:\n",
    "        while a + b + c <= limit:\n",
    "            if c == int(c) and a + b + c == limit:\n",
    "                return a*b*int(c)\n",
    "            b += 1\n",
    "            c = (a*a +b*b) ** 0.5\n",
    "        a += 1\n",
    "        b = a +1\n",
    "        c = (a*a +b*b) ** 0.5\n",
    "    \n",
    "    return \"no solution\"\n",
    "e9(1000)"
   ]
  },
  {
   "cell_type": "code",
   "execution_count": 16,
   "id": "6cc13a34",
   "metadata": {},
   "outputs": [
    {
     "data": {
      "text/plain": [
       "142913828922"
      ]
     },
     "execution_count": 16,
     "metadata": {},
     "output_type": "execute_result"
    }
   ],
   "source": [
    "def e10(limit):\n",
    "    return sum( filter( lambda n: n<limit, primes ))  \n",
    "\n",
    "e10( 2 * 10 ** 6 )"
   ]
  },
  {
   "cell_type": "code",
   "execution_count": 61,
   "id": "26204ae1",
   "metadata": {},
   "outputs": [
    {
     "data": {
      "text/plain": [
       "70600674"
      ]
     },
     "execution_count": 61,
     "metadata": {},
     "output_type": "execute_result"
    }
   ],
   "source": [
    "def e11():\n",
    "    f = open('e11data.txt')\n",
    "    lines = f.readlines()\n",
    "    numbers = [ [ int(s) for s in line.split(\" \") ] for line in lines  ]\n",
    "    \n",
    "    max_prod, adjacent_length = 0, 4\n",
    "    height, width = len(numbers), len(numbers[0])\n",
    "    \n",
    "    for i in range(height):\n",
    "        for j in range(width - adjacent_length):\n",
    "            right_prod = numbers[i][j] * numbers[i][j+1] * numbers[i][j+2] * numbers[i][j+3]\n",
    "            if right_prod > max_prod:\n",
    "                max_prod = right_prod\n",
    "\n",
    "    for i in range(height - adjacent_length):\n",
    "        for j in range(width):\n",
    "            down_prod = numbers[i][j] * numbers[i+1][j] * numbers[i+2][j] * numbers[i+3][j]\n",
    "            if down_prod > max_prod:\n",
    "                max_prod = down_prod\n",
    "                \n",
    "    for i in range(height - adjacent_length):\n",
    "        for j in range(width - adjacent_length):\n",
    "            diag_prod = numbers[i][j] * numbers[i+1][j+1] * numbers[i+2][j+2] * numbers[i+3][j+3]\n",
    "            if diag_prod > max_prod:\n",
    "                max_prod = diag_prod\n",
    "                \n",
    "    for i in range(height - adjacent_length):\n",
    "        for j in range(adjacent_length, width):\n",
    "            diag_prod = numbers[i][j] * numbers[i+1][j-1] * numbers[i+2][j-2] * numbers[i+3][j-3]\n",
    "            if diag_prod > max_prod:\n",
    "                max_prod = diag_prod\n",
    "            \n",
    "    return max_prod\n",
    "\n",
    "e11()"
   ]
  },
  {
   "cell_type": "code",
   "execution_count": 17,
   "id": "7d7f588d",
   "metadata": {},
   "outputs": [
    {
     "data": {
      "text/plain": [
       "76576500"
      ]
     },
     "execution_count": 17,
     "metadata": {},
     "output_type": "execute_result"
    }
   ],
   "source": [
    "\n",
    "def e12(limit):\n",
    "    triangle = lambda n: n * (n+1) // 2\n",
    "    i = 1\n",
    "    while num_factors( triangle(i) ) <= limit:\n",
    "        i += 1\n",
    "    return triangle(i)\n",
    "    \n",
    "e12(500)\n"
   ]
  },
  {
   "cell_type": "code",
   "execution_count": 18,
   "id": "0f480fc8",
   "metadata": {},
   "outputs": [
    {
     "data": {
      "text/plain": [
       "5537376230"
      ]
     },
     "execution_count": 18,
     "metadata": {},
     "output_type": "execute_result"
    }
   ],
   "source": [
    "def e13():\n",
    "    f = open('e13data.txt')\n",
    "    lines = f.readlines()\n",
    "    data_sum = sum( int(s) for s in lines )\n",
    "    return int(str(data_sum)[:10])\n",
    "e13()"
   ]
  },
  {
   "cell_type": "code",
   "execution_count": 19,
   "id": "1a26e6b3",
   "metadata": {},
   "outputs": [
    {
     "data": {
      "text/plain": [
       "837799"
      ]
     },
     "execution_count": 19,
     "metadata": {},
     "output_type": "execute_result"
    }
   ],
   "source": [
    "def e14(limit):\n",
    "\n",
    "    collatz = lambda n: n // 2 if n % 2 == 0 else 3 * n + 1\n",
    "    collatz_len_dic = { 1:1 }\n",
    "    \n",
    "    for i in range(1, limit):\n",
    "        if i in collatz_len_dic:\n",
    "            continue\n",
    "            \n",
    "        collatz_chain = [i]\n",
    "        while collatz(i) not in collatz_len_dic:\n",
    "            i = collatz(i)\n",
    "            collatz_chain.append(i)\n",
    "            \n",
    "        collatz_len = collatz_len_dic[ collatz(i) ] + 1\n",
    "        \n",
    "        while len( collatz_chain ) > 0:\n",
    "            i =  collatz_chain.pop()\n",
    "            collatz_len_dic[i] = collatz_len\n",
    "            collatz_len += 1\n",
    "        \n",
    "    return max(collatz_len_dic, key=collatz_len_dic.get)\n",
    "        \n",
    "e14(10 ** 6)"
   ]
  },
  {
   "cell_type": "code",
   "execution_count": 20,
   "id": "e4807410",
   "metadata": {},
   "outputs": [
    {
     "data": {
      "text/plain": [
       "137846528820"
      ]
     },
     "execution_count": 20,
     "metadata": {},
     "output_type": "execute_result"
    }
   ],
   "source": [
    "def e15(limit):\n",
    "    square_combo = map( lambda i: combinations(limit,i) ** 2, range(limit + 1) )\n",
    "    return sum( square_combo )\n",
    "    \n",
    "e15(20)"
   ]
  },
  {
   "cell_type": "code",
   "execution_count": 21,
   "id": "c6a38639",
   "metadata": {},
   "outputs": [
    {
     "data": {
      "text/plain": [
       "1366"
      ]
     },
     "execution_count": 21,
     "metadata": {},
     "output_type": "execute_result"
    }
   ],
   "source": [
    "def e16(limit):\n",
    "    return sum_digits( str(2 ** limit) )\n",
    "\n",
    "e16(1000)"
   ]
  },
  {
   "cell_type": "code",
   "execution_count": 22,
   "id": "5c30d461",
   "metadata": {},
   "outputs": [
    {
     "data": {
      "text/plain": [
       "648"
      ]
     },
     "execution_count": 22,
     "metadata": {},
     "output_type": "execute_result"
    }
   ],
   "source": [
    "def e20(limit):\n",
    "    return sum_digits( factorial(limit) )\n",
    "\n",
    "e20(100)"
   ]
  },
  {
   "cell_type": "code",
   "execution_count": 23,
   "id": "8dc31616",
   "metadata": {},
   "outputs": [
    {
     "data": {
      "text/plain": [
       "4782"
      ]
     },
     "execution_count": 23,
     "metadata": {},
     "output_type": "execute_result"
    }
   ],
   "source": [
    "def e25(limit):\n",
    "    fibo = [ 1, 1 ]\n",
    "    while len(str(fibo[-1])) < limit:\n",
    "        fibo.append( fibo[-1] + fibo[-2] )\n",
    "    return len(fibo)\n",
    "\n",
    "e25(10 ** 3)"
   ]
  },
  {
   "cell_type": "code",
   "execution_count": 24,
   "id": "d1e5da78",
   "metadata": {},
   "outputs": [
    {
     "data": {
      "text/plain": [
       "9183"
      ]
     },
     "execution_count": 24,
     "metadata": {},
     "output_type": "execute_result"
    }
   ],
   "source": [
    "def e29(limit):\n",
    "    exponential_set = set()\n",
    "    for a in range(2, limit+1):\n",
    "        for b in range(2, limit+1):\n",
    "            exponential_set.add( a**b )\n",
    "    return len(exponential_set)\n",
    "\n",
    "e29(100)"
   ]
  },
  {
   "cell_type": "code",
   "execution_count": 53,
   "id": "2872372d",
   "metadata": {},
   "outputs": [
    {
     "data": {
      "text/plain": [
       "210"
      ]
     },
     "execution_count": 53,
     "metadata": {},
     "output_type": "execute_result"
    }
   ],
   "source": [
    "def e40(indexes):\n",
    "    upper_bound = 5 * (10 ** 5)\n",
    "    s = ''.join( map( lambda n: str(n), range(1,upper_bound)) )\n",
    "    digits = map( lambda n: int(s[n-1]), indexes )\n",
    "    return reduce( operator.mul, digits, 1 )\n",
    "\n",
    "e40( [ 1, 10, 100, 1000, 10000, 100000, 1000000 ])"
   ]
  },
  {
   "cell_type": "code",
   "execution_count": 25,
   "id": "637fa449",
   "metadata": {},
   "outputs": [
    {
     "data": {
      "text/plain": [
       "9110846700"
      ]
     },
     "execution_count": 25,
     "metadata": {},
     "output_type": "execute_result"
    }
   ],
   "source": [
    "def e48(limit):\n",
    "    self_power = lambda a:  (a ** a) % (10 ** 10)\n",
    "    return  sum( map( self_power, range(1, limit+1) )) % (10 ** 10 )\n",
    "e48(1000)"
   ]
  },
  {
   "cell_type": "code",
   "execution_count": 33,
   "id": "7556a1a0",
   "metadata": {},
   "outputs": [
    {
     "data": {
      "text/plain": [
       "4075"
      ]
     },
     "execution_count": 33,
     "metadata": {},
     "output_type": "execute_result"
    }
   ],
   "source": [
    "def e53(limit):\n",
    "    ret_val = 0\n",
    "    for n in range(1, limit+1):\n",
    "        for r in range(limit+1):\n",
    "            if combinations(n, r) > 10 ** 6:\n",
    "                ret_val += 1\n",
    "    return ret_val\n",
    "\n",
    "e53(100)"
   ]
  },
  {
   "cell_type": "code",
   "execution_count": 26,
   "id": "d9035978",
   "metadata": {},
   "outputs": [
    {
     "data": {
      "text/plain": [
       "8739992577"
      ]
     },
     "execution_count": 26,
     "metadata": {},
     "output_type": "execute_result"
    }
   ],
   "source": [
    "def e97():\n",
    "    big_num = 1\n",
    "    for _ in range(7830457):\n",
    "        big_num = big_num * 2 % (10 ** 10)\n",
    "    return (28433 * big_num + 1) % (10 ** 10)\n",
    "        \n",
    "e97()"
   ]
  },
  {
   "cell_type": "code",
   "execution_count": 27,
   "id": "c07b5ee3",
   "metadata": {},
   "outputs": [
    {
     "data": {
      "text/plain": [
       "709"
      ]
     },
     "execution_count": 27,
     "metadata": {},
     "output_type": "execute_result"
    }
   ],
   "source": [
    "def e99():\n",
    "    f = open('e99data.txt')\n",
    "    lines = f.readlines()\n",
    "    max_exp, max_idx = 0, 0\n",
    "    power_list = [ int( s.partition(',')[2] ) * math.log( int(s.partition(',')[0]) ) \n",
    "                  for s in lines ]\n",
    "    \n",
    "    for i,v in enumerate(power_list):\n",
    "        if v > max_exp:\n",
    "            max_idx, max_exp = i, v\n",
    "            \n",
    "    return max_idx + 1\n",
    "\n",
    "e99()"
   ]
  },
  {
   "cell_type": "code",
   "execution_count": 28,
   "id": "ab10efb5",
   "metadata": {},
   "outputs": [
    {
     "data": {
      "text/plain": [
       "2.3161699771881104"
      ]
     },
     "execution_count": 28,
     "metadata": {},
     "output_type": "execute_result"
    }
   ],
   "source": [
    "end = time.time()\n",
    "elapsed = end - start\n",
    "elapsed"
   ]
  },
  {
   "cell_type": "code",
   "execution_count": null,
   "id": "17040ec6",
   "metadata": {},
   "outputs": [],
   "source": []
  },
  {
   "cell_type": "code",
   "execution_count": null,
   "id": "62c556e8",
   "metadata": {},
   "outputs": [],
   "source": []
  },
  {
   "cell_type": "code",
   "execution_count": null,
   "id": "d2c5cc15",
   "metadata": {},
   "outputs": [],
   "source": []
  }
 ],
 "metadata": {
  "kernelspec": {
   "display_name": "Python 3 (ipykernel)",
   "language": "python",
   "name": "python3"
  },
  "language_info": {
   "codemirror_mode": {
    "name": "ipython",
    "version": 3
   },
   "file_extension": ".py",
   "mimetype": "text/x-python",
   "name": "python",
   "nbconvert_exporter": "python",
   "pygments_lexer": "ipython3",
   "version": "3.10.6"
  }
 },
 "nbformat": 4,
 "nbformat_minor": 5
}
